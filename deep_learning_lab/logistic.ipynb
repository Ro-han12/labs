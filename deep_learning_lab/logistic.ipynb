{
 "cells": [
  {
   "cell_type": "code",
   "execution_count": 26,
   "metadata": {},
   "outputs": [],
   "source": [
    "import numpy as np\n",
    "\n",
    "def sigmoid(z):\n",
    "    return 1 / (1 + np.exp(-z))\n"
   ]
  },
  {
   "cell_type": "code",
   "execution_count": 27,
   "metadata": {},
   "outputs": [],
   "source": [
    "def initialize_parameters(input_size, hidden_size, output_size):\n",
    "    np.random.seed(42)\n",
    "    parameters = {\n",
    "        \"W1\": np.random.randn(hidden_size, input_size) * 0.01,\n",
    "        \"b1\": np.zeros((hidden_size, 1)),\n",
    "        \"W2\": np.random.randn(output_size, hidden_size) * 0.01,\n",
    "        \"b2\": np.zeros((output_size, 1))\n",
    "    }\n",
    "    return parameters"
   ]
  },
  {
   "cell_type": "code",
   "execution_count": 28,
   "metadata": {},
   "outputs": [],
   "source": [
    "def forward_propagation(X, parameters):\n",
    "    W1, b1, W2, b2 = parameters['W1'], parameters['b1'], parameters['W2'], parameters['b2']\n",
    "    Z1 = np.dot(W1, X) + b1\n",
    "    A1 = np.tanh(Z1)\n",
    "    Z2 = np.dot(W2, A1) + b2\n",
    "    A2 = sigmoid(Z2)\n",
    "    cache = {\"Z1\": Z1, \"A1\": A1, \"Z2\": Z2, \"A2\": A2}\n",
    "    return A2, cache"
   ]
  },
  {
   "cell_type": "code",
   "execution_count": 29,
   "metadata": {},
   "outputs": [],
   "source": [
    "def compute_cost(A2, Y):\n",
    "    m = Y.shape[1]\n",
    "    cost = (-1/m) * np.sum(Y * np.log(A2) + (1 - Y) * np.log(1 - A2))\n",
    "    return cost"
   ]
  },
  {
   "cell_type": "code",
   "execution_count": 35,
   "metadata": {},
   "outputs": [
    {
     "data": {
      "image/png": "[encoded data removed]",
      "text/plain": [
       "<Figure size 800x600 with 1 Axes>"
      ]
     },
     "metadata": {},
     "output_type": "display_data"
    }
   ],
   "source": [
    "# Example data for input X, parameters, and true labels Y\n",
    "X = np.array([[0.1, 0.2, 0.3]])\n",
    "parameters = {'W1': np.array([[0.1, 0.2, 0.3], [0.2, 0.3, 0.4]]),\n",
    "              'b1': np.array([[0.1], [0.2]]),\n",
    "              'W2': np.array([[0.4, 0.5]]),\n",
    "              'b2': np.array([[0.1]])}\n",
    "Y = np.array([[1]])\n",
    "\n",
    "# Perform forward propagation\n",
    "A2, _ = forward_propagation(X.T, parameters)\n",
    "\n",
    "# Compute the cost for different values of A2\n",
    "A2_values = np.linspace(0.01, 0.99, 100)\n",
    "cost_values = [compute_cost(np.array([[a]]), Y) for a in A2_values]\n",
    "\n",
    "# Plot the cost function graph\n",
    "plt.figure(figsize=(8, 6))\n",
    "plt.plot(A2_values, cost_values)\n",
    "plt.xlabel('Predicted Output (A2)')\n",
    "plt.ylabel('Cost')\n",
    "plt.title('Cost Function')\n",
    "plt.grid(True)\n",
    "plt.show()"
   ]
  },
  {
   "cell_type": "code",
   "execution_count": 30,
   "metadata": {},
   "outputs": [],
   "source": [
    "def backward_propagation(parameters, cache, X, Y):\n",
    "    m = X.shape[1]\n",
    "    W1, W2 = parameters['W1'], parameters['W2']\n",
    "    A1, A2 = cache['A1'], cache['A2']\n",
    "    dZ2 = A2 - Y\n",
    "    dW2 = (1/m) * np.dot(dZ2, A1.T)\n",
    "    db2 = (1/m) * np.sum(dZ2, axis=1, keepdims=True)\n",
    "    dZ1 = np.dot(W2.T, dZ2) * (1 - np.power(A1, 2))\n",
    "    dW1 = (1/m) * np.dot(dZ1, X.T)\n",
    "    db1 = (1/m) * np.sum(dZ1, axis=1, keepdims=True)\n",
    "    grads = {\"dW1\": dW1, \"db1\": db1, \"dW2\": dW2, \"db2\": db2}\n",
    "    return grads"
   ]
  },
  {
   "cell_type": "code",
   "execution_count": 31,
   "metadata": {},
   "outputs": [],
   "source": [
    "def update_parameters(parameters, grads, learning_rate=0.01):\n",
    "    for param_name in parameters:\n",
    "        parameters[param_name] -= learning_rate * grads[f\"d{param_name}\"]\n",
    "    return parameters"
   ]
  },
  {
   "cell_type": "code",
   "execution_count": 32,
   "metadata": {},
   "outputs": [],
   "source": [
    "def model(X, Y, input_size, hidden_size, output_size, num_iterations=10000, learning_rate=0.01):\n",
    "    parameters = initialize_parameters(input_size, hidden_size, output_size)\n",
    "    for i in range(num_iterations):\n",
    "        # Forward propagation\n",
    "        A2, cache = forward_propagation(X, parameters)\n",
    "        # Compute cost\n",
    "        cost = compute_cost(A2, Y)\n",
    "        # Backward propagation\n",
    "        grads = backward_propagation(parameters, cache, X, Y)\n",
    "        # Update parameters\n",
    "        parameters = update_parameters(parameters, grads, learning_rate)\n",
    "        # Print the cost every 1000 iterations\n",
    "        if i % 1000 == 0:\n",
    "            print(f\"Cost after iteration {i}: {cost}\")\n",
    "    return parameters"
   ]
  },
  {
   "cell_type": "code",
   "execution_count": 33,
   "metadata": {},
   "outputs": [
    {
     "name": "stdout",
     "output_type": "stream",
     "text": [
      "Cost after iteration 0: 0.6931471809493094\n",
      "Cost after iteration 1000: 0.6931471809393078\n",
      "Cost after iteration 2000: 0.6931471809347426\n",
      "Cost after iteration 3000: 0.6931471809302177\n",
      "Cost after iteration 4000: 0.6931471809256967\n",
      "Cost after iteration 5000: 0.6931471809211798\n",
      "Cost after iteration 6000: 0.6931471809166665\n",
      "Cost after iteration 7000: 0.6931471809121569\n",
      "Cost after iteration 8000: 0.6931471809076513\n",
      "Cost after iteration 9000: 0.6931471809031492\n"
     ]
    }
   ],
   "source": [
    "input_size = 2\n",
    "hidden_size = 4\n",
    "output_size = 1\n",
    "X = np.array([[0, 0], [0, 1], [1, 0], [1, 1]]).T  # Input\n",
    "Y = np.array([[0, 1, 1, 0]])  # Output\n",
    "trained_parameters = model(X, Y, input_size, hidden_size, output_size, num_iterations=10000, learning_rate=0.01)\n"
   ]
  }
 ],
 "metadata": {
  "kernelspec": {
   "display_name": "Python 3",
   "language": "python",
   "name": "python3"
  },
  "language_info": {
   "codemirror_mode": {
    "name": "ipython",
    "version": 3
   },
   "file_extension": ".py",
   "mimetype": "text/x-python",
   "name": "python",
   "nbconvert_exporter": "python",
   "pygments_lexer": "ipython3",
   "version": "3.9.6"
  }
 },
 "nbformat": 4,
 "nbformat_minor": 2
}
