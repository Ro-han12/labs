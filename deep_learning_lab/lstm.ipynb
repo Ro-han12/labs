{
 "cells": [
  {
   "cell_type": "code",
   "execution_count": 1,
   "metadata": {},
   "outputs": [
    {
     "name": "stderr",
     "output_type": "stream",
     "text": [
      "2024-05-01 22:37:58.332447: I metal_plugin/src/device/metal_device.cc:1154] Metal device set to: Apple M1\n",
      "2024-05-01 22:37:58.332475: I metal_plugin/src/device/metal_device.cc:296] systemMemory: 8.00 GB\n",
      "2024-05-01 22:37:58.332491: I metal_plugin/src/device/metal_device.cc:313] maxCacheSize: 2.67 GB\n",
      "2024-05-01 22:37:58.332565: I tensorflow/core/common_runtime/pluggable_device/pluggable_device_factory.cc:306] Could not identify NUMA node of platform GPU ID 0, defaulting to 0. Your kernel may not have been built with NUMA support.\n",
      "2024-05-01 22:37:58.332611: I tensorflow/core/common_runtime/pluggable_device/pluggable_device_factory.cc:272] Created TensorFlow device (/job:localhost/replica:0/task:0/device:GPU:0 with 0 MB memory) -> physical PluggableDevice (device: 0, name: METAL, pci bus id: <undefined>)\n"
     ]
    },
    {
     "name": "stdout",
     "output_type": "stream",
     "text": [
      "Epoch 1/1000\n"
     ]
    },
    {
     "name": "stderr",
     "output_type": "stream",
     "text": [
      "2024-05-01 22:37:59.811097: I tensorflow/core/grappler/optimizers/custom_graph_optimizer_registry.cc:117] Plugin optimizer for device_type GPU is enabled.\n"
     ]
    },
    {
     "name": "stdout",
     "output_type": "stream",
     "text": [
      "100/100 - 7s - loss: 0.1467 - 7s/epoch - 74ms/step\n",
      "Epoch 2/1000\n",
      "100/100 - 1s - loss: 0.0290 - 575ms/epoch - 6ms/step\n",
      "Epoch 3/1000\n",
      "100/100 - 1s - loss: 0.0185 - 559ms/epoch - 6ms/step\n",
      "Epoch 4/1000\n",
      "100/100 - 1s - loss: 0.0119 - 516ms/epoch - 5ms/step\n",
      "Epoch 5/1000\n",
      "100/100 - 1s - loss: 0.0068 - 572ms/epoch - 6ms/step\n",
      "Epoch 6/1000\n",
      "100/100 - 1s - loss: 0.0034 - 513ms/epoch - 5ms/step\n",
      "Epoch 7/1000\n",
      "100/100 - 1s - loss: 0.0017 - 510ms/epoch - 5ms/step\n",
      "Epoch 8/1000\n",
      "100/100 - 1s - loss: 0.0010 - 508ms/epoch - 5ms/step\n",
      "Epoch 9/1000\n",
      "100/100 - 1s - loss: 8.1888e-04 - 507ms/epoch - 5ms/step\n",
      "Epoch 10/1000\n",
      "100/100 - 1s - loss: 7.6942e-04 - 510ms/epoch - 5ms/step\n",
      "Epoch 11/1000\n",
      "100/100 - 1s - loss: 7.5597e-04 - 508ms/epoch - 5ms/step\n",
      "Epoch 12/1000\n",
      "100/100 - 1s - loss: 7.5726e-04 - 589ms/epoch - 6ms/step\n",
      "Epoch 13/1000\n",
      "100/100 - 1s - loss: 7.0332e-04 - 513ms/epoch - 5ms/step\n",
      "Epoch 14/1000\n",
      "100/100 - 1s - loss: 7.3180e-04 - 504ms/epoch - 5ms/step\n",
      "Epoch 15/1000\n",
      "100/100 - 1s - loss: 6.6138e-04 - 537ms/epoch - 5ms/step\n",
      "Epoch 16/1000\n",
      "100/100 - 1s - loss: 6.6827e-04 - 528ms/epoch - 5ms/step\n",
      "Epoch 17/1000\n",
      "100/100 - 1s - loss: 6.4075e-04 - 511ms/epoch - 5ms/step\n",
      "Epoch 18/1000\n",
      "100/100 - 1s - loss: 6.1151e-04 - 535ms/epoch - 5ms/step\n",
      "Epoch 19/1000\n"
     ]
    }
   ],
   "source": [
    "import numpy as np\n",
    "import tensorflow as tf\n",
    "from tensorflow.keras.models import Sequential\n",
    "from tensorflow.keras.layers import LSTM, Dense\n",
    "\n",
    "# Generate some sample data\n",
    "# Input sequence\n",
    "X = np.array([[i/100] for i in range(100)])\n",
    "# Output sequence (sin wave)\n",
    "y = np.sin(X)\n",
    "\n",
    "# Reshape input data for LSTM (samples, timesteps, features)\n",
    "X = X.reshape((X.shape[0], 1, 1))\n",
    "\n",
    "# Define LSTM model\n",
    "model = Sequential()\n",
    "model.add(LSTM(50, input_shape=(1, 1)))\n",
    "model.add(Dense(1))\n",
    "\n",
    "# Compile the model\n",
    "model.compile(optimizer='adam', loss='mse')\n",
    "\n",
    "# Train the model\n",
    "model.fit(X, y, epochs=1000, batch_size=1, verbose=2)\n",
    "\n",
    "# Predict on new data\n",
    "x_new = np.array([[i/100] for i in range(100, 200)])\n",
    "x_new = x_new.reshape((len(x_new), 1, 1))\n",
    "y_pred = model.predict(x_new)\n",
    "\n",
    "# Print the predictions\n",
    "print(y_pred)\n"
   ]
  },
  {
   "cell_type": "code",
   "execution_count": null,
   "metadata": {},
   "outputs": [],
   "source": []
  }
 ],
 "metadata": {
  "kernelspec": {
   "display_name": "google",
   "language": "python",
   "name": "python3"
  },
  "language_info": {
   "codemirror_mode": {
    "name": "ipython",
    "version": 3
   },
   "file_extension": ".py",
   "mimetype": "text/x-python",
   "name": "python",
   "nbconvert_exporter": "python",
   "pygments_lexer": "ipython3",
   "version": "3.10.13"
  }
 },
 "nbformat": 4,
 "nbformat_minor": 2
}
