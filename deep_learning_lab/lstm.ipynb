{
 "cells": [
  {
   "cell_type": "code",
   "execution_count": 1,
   "metadata": {},
   "outputs": [
    {
     "name": "stdout",
     "output_type": "stream",
     "text": [
      "100/100 - 1s - loss: 2.3756e-07 - 521ms/epoch - 5ms/step\n",
      "Epoch 891/1000\n",
      "100/100 - 1s - loss: 6.1868e-07 - 521ms/epoch - 5ms/step\n",
      "Epoch 892/1000\n",
      "100/100 - 1s - loss: 3.7167e-06 - 519ms/epoch - 5ms/step\n",
      "Epoch 893/1000\n",
      "100/100 - 1s - loss: 5.9071e-07 - 511ms/epoch - 5ms/step\n",
      "Epoch 894/1000\n",
      "100/100 - 1s - loss: 7.6945e-07 - 535ms/epoch - 5ms/step\n",
      "Epoch 895/1000\n",
      "100/100 - 1s - loss: 1.1050e-06 - 544ms/epoch - 5ms/step\n",
      "Epoch 896/1000\n",
      "100/100 - 1s - loss: 4.5732e-06 - 536ms/epoch - 5ms/step\n",
      "Epoch 897/1000\n",
      "100/100 - 1s - loss: 4.8842e-07 - 529ms/epoch - 5ms/step\n",
      "Epoch 898/1000\n",
      "100/100 - 1s - loss: 1.2515e-06 - 591ms/epoch - 6ms/step\n",
      "Epoch 899/1000\n",
      "100/100 - 1s - loss: 1.0846e-06 - 544ms/epoch - 5ms/step\n",
      "Epoch 900/1000\n",
      "100/100 - 1s - loss: 1.2294e-05 - 527ms/epoch - 5ms/step\n",
      "Epoch 901/1000\n",
      "100/100 - 1s - loss: 9.8382e-07 - 526ms/epoch - 5ms/step\n",
      "Epoch 902/1000\n",
      "100/100 - 1s - loss: 8.5093e-07 - 526ms/epoch - 5ms/step\n",
      "Epoch 903/1000\n",
      "100/100 - 1s - loss: 5.6752e-07 - 508ms/epoch - 5ms/step\n",
      "Epoch 904/1000\n",
      "100/100 - 1s - loss: 2.0770e-07 - 510ms/epoch - 5ms/step\n",
      "Epoch 905/1000\n",
      "100/100 - 1s - loss: 5.0813e-07 - 561ms/epoch - 6ms/step\n",
      "Epoch 906/1000\n",
      "100/100 - 1s - loss: 4.8489e-07 - 505ms/epoch - 5ms/step\n",
      "Epoch 907/1000\n",
      "100/100 - 1s - loss: 6.6459e-07 - 550ms/epoch - 6ms/step\n",
      "Epoch 908/1000\n"
     ]
    }
   ],
   "source": [
    "import numpy as np\n",
    "import tensorflow as tf\n",
    "from tensorflow.keras.models import Sequential\n",
    "from tensorflow.keras.layers import LSTM, Dense\n",
    "\n",
    "# Generate some sample data\n",
    "# Input sequence\n",
    "X = np.array([[i/100] for i in range(100)])\n",
    "# Output sequence (sin wave)\n",
    "y = np.sin(X)\n",
    "\n",
    "# Reshape input data for LSTM (samples, timesteps, features)\n",
    "X = X.reshape((X.shape[0], 1, 1))\n",
    "\n",
    "# Define LSTM model\n",
    "model = Sequential()\n",
    "model.add(LSTM(50, input_shape=(1, 1)))\n",
    "model.add(Dense(1))\n",
    "\n",
    "# Compile the model\n",
    "model.compile(optimizer='adam', loss='mse')\n",
    "\n",
    "# Train the model\n",
    "model.fit(X, y, epochs=1000, batch_size=1, verbose=2)\n",
    "\n",
    "# Predict on new data\n",
    "x_new = np.array([[i/100] for i in range(100, 200)])\n",
    "x_new = x_new.reshape((len(x_new), 1, 1))\n",
    "y_pred = model.predict(x_new)\n",
    "\n",
    "# Print the predictions\n",
    "print(y_pred)\n"
   ]
  },
  {
   "cell_type": "code",
   "execution_count": null,
   "metadata": {},
   "outputs": [],
   "source": []
  }
 ],
 "metadata": {
  "kernelspec": {
   "display_name": "google",
   "language": "python",
   "name": "python3"
  },
  "language_info": {
   "codemirror_mode": {
    "name": "ipython",
    "version": 3
   },
   "file_extension": ".py",
   "mimetype": "text/x-python",
   "name": "python",
   "nbconvert_exporter": "python",
   "pygments_lexer": "ipython3",
   "version": "3.10.13"
  }
 },
 "nbformat": 4,
 "nbformat_minor": 2
}
