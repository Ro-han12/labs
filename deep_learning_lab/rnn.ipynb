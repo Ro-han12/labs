{
 "cells": [
  {
   "cell_type": "code",
   "execution_count": 5,
   "metadata": {},
   "outputs": [],
   "source": [
    "from tensorflow.keras.models import Sequential\n",
    "from  tensorflow.keras.layers import Dense,SimpleRNN\n",
    "import numpy as np"
   ]
  },
  {
   "cell_type": "code",
   "execution_count": 9,
   "metadata": {},
   "outputs": [],
   "source": [
    "np.random.seed(1)\n",
    "x=np.random.rand(1000,10,5)\n",
    "y=np.random.randint(2,size=(1000,1))"
   ]
  },
  {
   "cell_type": "code",
   "execution_count": 10,
   "metadata": {},
   "outputs": [
    {
     "name": "stderr",
     "output_type": "stream",
     "text": [
      "2024-04-19 09:35:45.676999: I metal_plugin/src/device/metal_device.cc:1154] Metal device set to: Apple M1\n",
      "2024-04-19 09:35:45.677077: I metal_plugin/src/device/metal_device.cc:296] systemMemory: 8.00 GB\n",
      "2024-04-19 09:35:45.677090: I metal_plugin/src/device/metal_device.cc:313] maxCacheSize: 2.67 GB\n",
      "2024-04-19 09:35:45.677469: I tensorflow/core/common_runtime/pluggable_device/pluggable_device_factory.cc:306] Could not identify NUMA node of platform GPU ID 0, defaulting to 0. Your kernel may not have been built with NUMA support.\n",
      "2024-04-19 09:35:45.677505: I tensorflow/core/common_runtime/pluggable_device/pluggable_device_factory.cc:272] Created TensorFlow device (/job:localhost/replica:0/task:0/device:GPU:0 with 0 MB memory) -> physical PluggableDevice (device: 0, name: METAL, pci bus id: <undefined>)\n"
     ]
    }
   ],
   "source": [
    "model=Sequential()\n",
    "model.add(SimpleRNN(50,input_shape=(10,5),return_sequences=False))\n",
    "model.add(Dense(1,activation='sigmoid'))"
   ]
  },
  {
   "cell_type": "code",
   "execution_count": 11,
   "metadata": {},
   "outputs": [
    {
     "name": "stdout",
     "output_type": "stream",
     "text": [
      "Model: \"sequential\"\n",
      "_________________________________________________________________\n",
      " Layer (type)                Output Shape              Param #   \n",
      "=================================================================\n",
      " simple_rnn (SimpleRNN)      (None, 50)                2800      \n",
      "                                                                 \n",
      " dense (Dense)               (None, 1)                 51        \n",
      "                                                                 \n",
      "=================================================================\n",
      "Total params: 2851 (11.14 KB)\n",
      "Trainable params: 2851 (11.14 KB)\n",
      "Non-trainable params: 0 (0.00 Byte)\n",
      "_________________________________________________________________\n"
     ]
    }
   ],
   "source": [
    "model.summary()"
   ]
  },
  {
   "cell_type": "code",
   "execution_count": 14,
   "metadata": {},
   "outputs": [],
   "source": [
    "model.compile(optimizer='adam',loss='binary_crossentropy',metrics=['accuracy'])"
   ]
  },
  {
   "cell_type": "code",
   "execution_count": 15,
   "metadata": {},
   "outputs": [
    {
     "name": "stdout",
     "output_type": "stream",
     "text": [
      "Epoch 1/10\n"
     ]
    },
    {
     "name": "stderr",
     "output_type": "stream",
     "text": [
      "2024-04-19 09:39:20.212252: I tensorflow/core/grappler/optimizers/custom_graph_optimizer_registry.cc:117] Plugin optimizer for device_type GPU is enabled.\n"
     ]
    },
    {
     "name": "stdout",
     "output_type": "stream",
     "text": [
      "25/25 [==============================] - 9s 118ms/step - loss: 0.7025 - accuracy: 0.4837 - val_loss: 0.6971 - val_accuracy: 0.5150\n",
      "Epoch 2/10\n",
      "25/25 [==============================] - 1s 56ms/step - loss: 0.6880 - accuracy: 0.5475 - val_loss: 0.7028 - val_accuracy: 0.4650\n",
      "Epoch 3/10\n",
      "25/25 [==============================] - 1s 55ms/step - loss: 0.6802 - accuracy: 0.5863 - val_loss: 0.7011 - val_accuracy: 0.5150\n",
      "Epoch 4/10\n",
      "25/25 [==============================] - 2s 67ms/step - loss: 0.6748 - accuracy: 0.5813 - val_loss: 0.7042 - val_accuracy: 0.5100\n",
      "Epoch 5/10\n",
      "25/25 [==============================] - 1s 57ms/step - loss: 0.6718 - accuracy: 0.6050 - val_loss: 0.7040 - val_accuracy: 0.5150\n",
      "Epoch 6/10\n",
      "25/25 [==============================] - 1s 57ms/step - loss: 0.6666 - accuracy: 0.5800 - val_loss: 0.7125 - val_accuracy: 0.5050\n",
      "Epoch 7/10\n",
      "25/25 [==============================] - 1s 55ms/step - loss: 0.6619 - accuracy: 0.6075 - val_loss: 0.7116 - val_accuracy: 0.4900\n",
      "Epoch 8/10\n",
      "25/25 [==============================] - 1s 58ms/step - loss: 0.6620 - accuracy: 0.6087 - val_loss: 0.7137 - val_accuracy: 0.5300\n",
      "Epoch 9/10\n",
      "25/25 [==============================] - 1s 60ms/step - loss: 0.6577 - accuracy: 0.6087 - val_loss: 0.7259 - val_accuracy: 0.4700\n",
      "Epoch 10/10\n",
      "25/25 [==============================] - 1s 57ms/step - loss: 0.6578 - accuracy: 0.6075 - val_loss: 0.7251 - val_accuracy: 0.4650\n"
     ]
    },
    {
     "data": {
      "text/plain": [
       "<keras.src.callbacks.History at 0x30010a320>"
      ]
     },
     "execution_count": 15,
     "metadata": {},
     "output_type": "execute_result"
    }
   ],
   "source": [
    "model.fit(x,y,validation_split=0.2,epochs=10)"
   ]
  },
  {
   "cell_type": "code",
   "execution_count": 17,
   "metadata": {},
   "outputs": [
    {
     "name": "stdout",
     "output_type": "stream",
     "text": [
      "32/32 [==============================] - 0s 14ms/step - loss: 0.6643 - accuracy: 0.6030\n",
      "Loss: 0.6642631888389587, Accuracy: 0.6029999852180481\n"
     ]
    }
   ],
   "source": [
    "loss,acc=model.evaluate(x,y)\n",
    "print(f\"Loss: {loss}, Accuracy: {acc}\")"
   ]
  },
  {
   "cell_type": "code",
   "execution_count": null,
   "metadata": {},
   "outputs": [],
   "source": []
  }
 ],
 "metadata": {
  "kernelspec": {
   "display_name": "google",
   "language": "python",
   "name": "python3"
  },
  "language_info": {
   "codemirror_mode": {
    "name": "ipython",
    "version": 3
   },
   "file_extension": ".py",
   "mimetype": "text/x-python",
   "name": "python",
   "nbconvert_exporter": "python",
   "pygments_lexer": "ipython3",
   "version": "3.10.13"
  }
 },
 "nbformat": 4,
 "nbformat_minor": 2
}
