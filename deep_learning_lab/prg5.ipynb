{
 "cells": [
  {
   "cell_type": "code",
   "execution_count": 1,
   "metadata": {},
   "outputs": [],
   "source": [
    "import numpy as np\n",
    "import tensorflow as tf\n",
    "from tensorflow.keras import layers, models\n",
    "from tensorflow.keras.datasets import cifar10\n",
    "from tensorflow.keras.utils import to_categorical\n"
   ]
  },
  {
   "cell_type": "code",
   "execution_count": 2,
   "metadata": {},
   "outputs": [],
   "source": [
    "\n",
    "# Helper function to load and preprocess data\n",
    "def load_and_preprocess_data():\n",
    "    (train_images, train_labels), (test_images, test_labels) = cifar10.load_data()\n",
    "    \n",
    "    # Normalize pixel values to be between 0 and 1\n",
    "    train_images, test_images = train_images / 255.0, test_images / 255.0\n",
    "    \n",
    "    # One-hot encode labels\n",
    "    train_labels = to_categorical(train_labels, num_classes=10)\n",
    "    test_labels = to_categorical(test_labels, num_classes=10)\n",
    "    \n",
    "    return train_images, train_labels, test_images, test_labels\n"
   ]
  },
  {
   "cell_type": "code",
   "execution_count": 3,
   "metadata": {},
   "outputs": [],
   "source": [
    "\n",
    "# Helper function to build the CNN model\n",
    "def build_model():\n",
    "    model = models.Sequential()\n",
    "    \n",
    "    model.add(layers.Conv2D(32, (3, 3), activation='relu', input_shape=(32, 32, 3)))\n",
    "    model.add(layers.MaxPooling2D((2, 2)))\n",
    "    \n",
    "    model.add(layers.Conv2D(64, (3, 3), activation='relu'))\n",
    "    model.add(layers.MaxPooling2D((2, 2)))\n",
    "    \n",
    "    model.add(layers.Conv2D(64, (3, 3), activation='relu'))\n",
    "    \n",
    "    model.add(layers.Flatten())\n",
    "    model.add(layers.Dense(64, activation='relu'))\n",
    "    model.add(layers.Dense(10, activation='softmax'))\n",
    "    \n",
    "    return model"
   ]
  },
  {
   "cell_type": "code",
   "execution_count": 4,
   "metadata": {},
   "outputs": [],
   "source": [
    "\n",
    "# Helper function to train the model\n",
    "def train_model(model, train_images, train_labels, test_images, test_labels, epochs=10, batch_size=64):\n",
    "    model.compile(optimizer='adam',\n",
    "                  loss='categorical_crossentropy',\n",
    "                  metrics=['accuracy'])\n",
    "\n",
    "    model.fit(train_images, train_labels, epochs=epochs, batch_size=batch_size, validation_data=(test_images, test_labels))\n"
   ]
  },
  {
   "cell_type": "code",
   "execution_count": 5,
   "metadata": {},
   "outputs": [],
   "source": [
    "# Helper function to evaluate the model\n",
    "def evaluate_model(model, test_images, test_labels):\n",
    "    loss, accuracy = model.evaluate(test_images, test_labels)\n",
    "    print(\"Test Accuracy:\", accuracy)"
   ]
  },
  {
   "cell_type": "code",
   "execution_count": 6,
   "metadata": {},
   "outputs": [],
   "source": [
    "#Helper function to generate predictions\n",
    "def generate_predictions(model, test_images):\n",
    "    predictions = model.predict(test_images)\n",
    "    return predictions"
   ]
  },
  {
   "cell_type": "code",
   "execution_count": 7,
   "metadata": {},
   "outputs": [],
   "source": [
    "#Helper function to plot training history\n",
    "def plot_training_history(history):\n",
    "    plt.plot(history.history['accuracy'], label='accuracy')\n",
    "    plt.plot(history.history['val_accuracy'], label = 'val_accuracy')\n",
    "    plt.xlabel('Epoch')\n",
    "    plt.ylabel('Accuracy')\n",
    "    plt.ylim([0, 1])\n",
    "    plt.legend(loc='lower right')\n",
    "    plt.show()\n",
    "\n",
    "# Helper function to visualize results\n",
    "def visualize_results(test_images, test_labels, predictions):\n",
    "    num_rows = 5\n",
    "    num_cols = 3\n",
    "    num_images = num_rows * num_cols\n",
    "    plt.figure(figsize=(10, 10))\n",
    "    for i in range(num_images):\n",
    "        plt.subplot(num_rows, 2 * num_cols, 2 * i + 1)\n",
    "        plt.xticks([])\n",
    "        plt.yticks([])\n",
    "        plt.grid(False)\n",
    "        plt.imshow(test_images[i], cmap=plt.cm.binary)\n",
    "        true_label = np.argmax(test_labels[i])\n",
    "        predicted_label = np.argmax(predictions[i])\n",
    "        if true_label == predicted_label:\n",
    "            color = 'green'\n",
    "        else:\n",
    "            color = 'red'\n",
    "        plt.xlabel(f\"True: {true_label}, Pred: {predicted_label}\", color=color)\n",
    "    plt.show()\n"
   ]
  },
  {
   "cell_type": "code",
   "execution_count": 10,
   "metadata": {},
   "outputs": [
    {
     "name": "stdout",
     "output_type": "stream",
     "text": [
      "Epoch 1/10\n",
      "782/782 [==============================] - 24s 29ms/step - loss: 1.6180 - accuracy: 0.4064 - val_loss: 1.3608 - val_accuracy: 0.5086\n",
      "Epoch 2/10\n",
      "782/782 [==============================] - 21s 26ms/step - loss: 1.3068 - accuracy: 0.5358 - val_loss: 1.2387 - val_accuracy: 0.5599\n",
      "Epoch 3/10\n",
      "782/782 [==============================] - 17s 22ms/step - loss: 1.2077 - accuracy: 0.5744 - val_loss: 1.2608 - val_accuracy: 0.5599\n",
      "Epoch 4/10\n",
      "782/782 [==============================] - 17s 22ms/step - loss: 1.1446 - accuracy: 0.6029 - val_loss: 1.1274 - val_accuracy: 0.6113\n",
      "Epoch 5/10\n",
      "782/782 [==============================] - 18s 23ms/step - loss: 1.1846 - accuracy: 0.5983 - val_loss: 1.2165 - val_accuracy: 0.5945\n",
      "Epoch 6/10\n",
      "782/782 [==============================] - 30s 39ms/step - loss: 1.3836 - accuracy: 0.5781 - val_loss: 1.7495 - val_accuracy: 0.5191\n",
      "Epoch 7/10\n",
      "782/782 [==============================] - 17s 22ms/step - loss: 1.7449 - accuracy: 0.5521 - val_loss: 2.0444 - val_accuracy: 0.5444\n",
      "Epoch 8/10\n",
      "782/782 [==============================] - 17s 22ms/step - loss: 2.7282 - accuracy: 0.5207 - val_loss: 3.0976 - val_accuracy: 0.5259\n",
      "Epoch 9/10\n",
      "782/782 [==============================] - 17s 22ms/step - loss: 5.9305 - accuracy: 0.4792 - val_loss: 10.8045 - val_accuracy: 0.4326\n",
      "Epoch 10/10\n",
      "782/782 [==============================] - 18s 22ms/step - loss: 17.1126 - accuracy: 0.4260 - val_loss: 30.0472 - val_accuracy: 0.3797\n",
      "Epoch 1/10\n",
      "1563/1563 [==============================] - 30s 19ms/step - loss: 115.6086 - accuracy: 0.3356 - val_loss: 213.0511 - val_accuracy: 0.3029\n",
      "Epoch 2/10\n",
      "1563/1563 [==============================] - 29s 18ms/step - loss: 532.3463 - accuracy: 0.2880 - val_loss: 999.8967 - val_accuracy: 0.2490\n",
      "Epoch 3/10\n",
      "1563/1563 [==============================] - 108s 69ms/step - loss: 2077.7834 - accuracy: 0.2498 - val_loss: 4244.7637 - val_accuracy: 0.1695\n",
      "Epoch 4/10\n",
      "1563/1563 [==============================] - 29s 18ms/step - loss: 6382.9824 - accuracy: 0.2295 - val_loss: 14262.5635 - val_accuracy: 0.1752\n",
      "Epoch 5/10\n",
      "1563/1563 [==============================] - 29s 18ms/step - loss: 17030.2715 - accuracy: 0.2102 - val_loss: 17923.8281 - val_accuracy: 0.2305\n",
      "Epoch 6/10\n",
      "1563/1563 [==============================] - 28s 18ms/step - loss: 38789.3594 - accuracy: 0.2027 - val_loss: 67845.0547 - val_accuracy: 0.1892\n",
      "Epoch 7/10\n",
      "1563/1563 [==============================] - 28s 18ms/step - loss: 71914.6328 - accuracy: 0.1951 - val_loss: 95592.7422 - val_accuracy: 0.1611\n",
      "Epoch 8/10\n",
      "1563/1563 [==============================] - 29s 18ms/step - loss: 124991.9219 - accuracy: 0.1891 - val_loss: 204503.7812 - val_accuracy: 0.1791\n",
      "Epoch 9/10\n",
      "1563/1563 [==============================] - 28s 18ms/step - loss: 205394.8281 - accuracy: 0.1849 - val_loss: 214560.7500 - val_accuracy: 0.2049\n",
      "Epoch 10/10\n",
      "1563/1563 [==============================] - 29s 19ms/step - loss: 323120.2500 - accuracy: 0.1840 - val_loss: 455681.4375 - val_accuracy: 0.1829\n"
     ]
    }
   ],
   "source": [
    "# Main function\n",
    "def main():\n",
    "    # Load and preprocess data\n",
    "    train_images, train_labels, test_images, test_labels = load_and_preprocess_data()\n",
    "    \n",
    "    # Build the model\n",
    "    model = build_model()\n",
    "    \n",
    "    # Train the model\n",
    "    train_model(model, train_images, train_labels, test_images, test_labels)\n",
    "    \n",
    "    history = model.fit(train_images, train_labels, epochs=10, batch_size=32, validation_data=(test_images, test_labels))\n",
    "    return history\n",
    "    \n",
    "    # Evaluate the model\n",
    "    evaluate_model(model, test_images, test_labels)\n",
    "    \n",
    "    # Generate predictions\n",
    "    predictions = generate_predictions(model, test_images)\n",
    "    print(\"Sample predictions:\", predictions[:5])  # Print the first 5 predictions\n",
    "    \n",
    "    # Visualize training history\n",
    "    plot_training_history(history)\n",
    "    \n",
    "    # Visualize results\n",
    "    visualize_results(test_images, test_labels, predictions)\n",
    "\n",
    "if __name__ == \"__main__\":\n",
    "    main()"
   ]
  },
  {
   "cell_type": "code",
   "execution_count": null,
   "metadata": {},
   "outputs": [],
   "source": []
  }
 ],
 "metadata": {
  "kernelspec": {
   "display_name": "google",
   "language": "python",
   "name": "python3"
  },
  "language_info": {
   "codemirror_mode": {
    "name": "ipython",
    "version": 3
   },
   "file_extension": ".py",
   "mimetype": "text/x-python",
   "name": "python",
   "nbconvert_exporter": "python",
   "pygments_lexer": "ipython3",
   "version": "3.10.13"
  }
 },
 "nbformat": 4,
 "nbformat_minor": 2
}
