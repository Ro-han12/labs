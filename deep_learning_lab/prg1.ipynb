{
 "cells": [
  {
   "cell_type": "code",
   "execution_count": 32,
   "metadata": {},
   "outputs": [
    {
     "name": "stdout",
     "output_type": "stream",
     "text": [
      "cost iterations 0:0.693147\n",
      "cost iterations 100:0.683126\n",
      "cost iterations 200:0.683124\n",
      "cost iterations 300:0.683124\n",
      "cost iterations 400:0.683124\n",
      "cost iterations 500:0.683124\n",
      "cost iterations 600:0.683124\n",
      "cost iterations 700:0.683124\n",
      "cost iterations 800:0.683124\n",
      "cost iterations 900:0.683124\n",
      "cost iterations 1000:0.683124\n",
      "cost iterations 1100:0.683124\n",
      "cost iterations 1200:0.683124\n",
      "cost iterations 1300:0.683124\n",
      "cost iterations 1400:0.683124\n",
      "cost iterations 1500:0.683124\n",
      "cost iterations 1600:0.683124\n",
      "cost iterations 1700:0.683124\n",
      "cost iterations 1800:0.683124\n",
      "cost iterations 1900:0.683124\n"
     ]
    }
   ],
   "source": [
    "import numpy as np \n",
    "def initialise_parameters(dim):\n",
    "    w=np.zeros((dim,1))\n",
    "    b=0\n",
    "    return w,b\n",
    "def sigmoid(z):\n",
    "    s=1/(1+np.exp(-z))\n",
    "    return s\n",
    "def propogate(w,b,x,y):\n",
    "    m=x.shape[1]\n",
    "    A=sigmoid(np.dot(w.T,x)+b)\n",
    "    cost= -1 / m * np.sum(y*np.log(A) + (1-y) * np.log(1-A))\n",
    "    dw=1/m * np.dot(x,(A-y).T)\n",
    "    db=1/m * np.sum(A-y)\n",
    "    cost=np.squeeze(cost)\n",
    "    grads={\"dw\":dw, \"db\": db}\n",
    "    return grads,cost\n",
    "def optimise(w,b,x,y,learning_rate,num_iterations,print_cost=True):\n",
    "    costs=[]\n",
    "    for i in range(num_iterations):\n",
    "        grads,cost=propogate(w,b,x,y)\n",
    "        dw=grads['dw']\n",
    "        db=grads['db']\n",
    "        w-=learning_rate*dw\n",
    "        b-=learning_rate*db\n",
    "        if i%100==0:\n",
    "            costs.append(cost)\n",
    "        if print_cost and i%100==0:\n",
    "            print(\"cost iterations %i:%f\"%(i,cost))\n",
    "    params={'w': w , 'b': b}\n",
    "    grads={'dw': dw , 'db': db}\n",
    "    return params,grads,cost\n",
    "def model(x_train,x_test,y_train,y_test,learning_rate=0.2,num_iterations=2000,print_cost=True):\n",
    "    w,b=initialise_parameters(x_train.shape[0])\n",
    "    parameters,_,costs=optimise(w,b,x_train,y_train,learning_rate,num_iterations,print_cost=True)\n",
    "    w,b=parameters['w'],parameters['b']\n",
    "    return {'costs': costs,'w': w,'b':b,'learning_rate':learning_rate,'num_iterations':num_iterations}\n",
    "np.random.seed(0)\n",
    "x_train=np.random.randn(20,1000)\n",
    "y_train=np.random.randint(2,size=(1,1000))\n",
    "x_test=np.random.randn(20,200)\n",
    "y_test=np.random.randint(1,size=(1,200))\n",
    "res=model(x_train,x_test,y_train,y_test,learning_rate=0.2,num_iterations=2000,print_cost=True)"
   ]
  }
 ],
 "metadata": {
  "kernelspec": {
   "display_name": "google",
   "language": "python",
   "name": "python3"
  },
  "language_info": {
   "codemirror_mode": {
    "name": "ipython",
    "version": 3
   },
   "file_extension": ".py",
   "mimetype": "text/x-python",
   "name": "python",
   "nbconvert_exporter": "python",
   "pygments_lexer": "ipython3",
   "version": "3.10.13"
  }
 },
 "nbformat": 4,
 "nbformat_minor": 2
}
