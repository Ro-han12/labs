{
 "cells": [
  {
   "cell_type": "code",
   "execution_count": 14,
   "metadata": {},
   "outputs": [
    {
     "name": "stderr",
     "output_type": "stream",
     "text": [
      "WARNING:absl:At this time, the v2.11+ optimizer `tf.keras.optimizers.SGD` runs slowly on M1/M2 Macs, please use the legacy Keras optimizer instead, located at `tf.keras.optimizers.legacy.SGD`.\n"
     ]
    },
    {
     "name": "stdout",
     "output_type": "stream",
     "text": [
      "trained wegihts & bias \n",
      "weights: 2.4231925\n",
      "bias: 2.1854753\n"
     ]
    }
   ],
   "source": [
    "#gradient descent with tensorflow\n",
    "import tensorflow as tf \n",
    "import numpy as np \n",
    "np.random.seed(40)\n",
    "x=np.linspace(0,10,100)\n",
    "y=2*x+5\n",
    "#convert numpy to tensor\n",
    "x_train=tf.constant(x,dtype=tf.float32)\n",
    "y_train=tf.constant(y,dtype=tf.float32)\n",
    "#initialize weights & bias \n",
    "w=tf.Variable(np.random.randn(),name=\"weight\")\n",
    "b=tf.Variable(np.random.randn(),name=\"bias\")\n",
    "#linear model \n",
    "def linear_model(x):\n",
    "    return w*x+b\n",
    "def mean_squared_error(y_true,y_pred):\n",
    "    return tf.reduce_mean(tf.square(y_true - y_pred))\n",
    "optimizer=tf.optimizers.SGD(learning_rate=0.01)\n",
    "#training loop \n",
    "epochs=100\n",
    "for epoch in range(epochs):\n",
    "    with tf.GradientTape() as tape:\n",
    "        predictions=linear_model(x_train)\n",
    "        loss=mean_squared_error(y_train,predictions)\n",
    "        \n",
    "    gradients=tape.gradient(loss,[w,b]) #compute gradients\n",
    "    optimizer.apply_gradients(zip(gradients,[w,b]))\n",
    "\n",
    "trained_w,trained_b=w.numpy(),b.numpy()\n",
    "print(\"trained wegihts & bias \")\n",
    "print(\"weights:\",trained_w)\n",
    "print(\"bias:\",trained_b)\n",
    "\n"
   ]
  },
  {
   "cell_type": "code",
   "execution_count": null,
   "metadata": {},
   "outputs": [],
   "source": []
  }
 ],
 "metadata": {
  "kernelspec": {
   "display_name": "google",
   "language": "python",
   "name": "python3"
  },
  "language_info": {
   "codemirror_mode": {
    "name": "ipython",
    "version": 3
   },
   "file_extension": ".py",
   "mimetype": "text/x-python",
   "name": "python",
   "nbconvert_exporter": "python",
   "pygments_lexer": "ipython3",
   "version": "3.10.13"
  }
 },
 "nbformat": 4,
 "nbformat_minor": 2
}
