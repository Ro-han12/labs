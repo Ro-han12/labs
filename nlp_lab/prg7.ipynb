{
 "cells": [
  {
   "cell_type": "code",
   "execution_count": 1,
   "metadata": {},
   "outputs": [
    {
     "name": "stdout",
     "output_type": "stream",
     "text": [
      "Normalized text using split() and join(): This is a test string\n",
      "Normalized text using regular expression: This is a test string\n"
     ]
    }
   ],
   "source": [
    "import re\n",
    "\n",
    "def normalize_whitespace(text):\n",
    "    # Using split() and join()\n",
    "    words = text.split()\n",
    "    normalized_text = ' '.join(words)\n",
    "\n",
    "    # Using regular expression\n",
    "    normalized_text_regex = re.sub(r'\\s+', ' ', text.strip())\n",
    "    \n",
    "    return normalized_text, normalized_text_regex\n",
    "\n",
    "# Test the function\n",
    "text = \"  This   is  a   test   string  \"\n",
    "split_join, regex = normalize_whitespace(text)\n",
    "print(\"Normalized text using split() and join():\", split_join)\n",
    "print(\"Normalized text using regular expression:\", regex)\n"
   ]
  }
 ],
 "metadata": {
  "kernelspec": {
   "display_name": "cust",
   "language": "python",
   "name": "python3"
  },
  "language_info": {
   "codemirror_mode": {
    "name": "ipython",
    "version": 3
   },
   "file_extension": ".py",
   "mimetype": "text/x-python",
   "name": "python",
   "nbconvert_exporter": "python",
   "pygments_lexer": "ipython3",
   "version": "3.9.18"
  }
 },
 "nbformat": 4,
 "nbformat_minor": 2
}
