{
 "cells": [
  {
   "cell_type": "markdown",
   "metadata": {},
   "source": [
    "An Introduction to Sentence Segmentation\n",
    "\n",
    "Sentence segmentation, means, to split a given paragraph of text into sentences, by identifying the sentence boundaries. In many cases, a full stop is all that is required to identify the end of a sentence, but the task is not all that simple.\n",
    "\n",
    "This is an open ended challenge to which there are no perfect solutions. Try to break up given paragraphs into text into individual sentences. Even if you don't manage to segment the text perfectly, the more sentences you identify and display correctly, the more you will score.\n",
    "\n",
    "Abbreviations: Dr. W. Watson is amazing. In this case, the first and second \".\" occurs after Dr (Doctor) and W (initial in the person's name) and should not be confused as the end of the sentence.\n",
    "\n",
    "Sentences enclosed in quotes: \"What good are they? They're led about just for show!\" remarked another. All of this, should be identified as just one sentence.\n",
    "\n",
    "Questions and exclamations: Who is it? -This is a question. This should be identified as a sentence. I am tired!: Something which has been exclaimed. This should also be identified as a sentence.\n",
    "\n",
    "INPUT FORMAT\n",
    "\n",
    "You will be given a chunk of text, containing several sentences, questions, statements and exclamations- all in 1 line.\n",
    "\n",
    "Constraints\n",
    "\n",
    "Number of characters in every input does not exceed 10000.\n",
    "Number of words in every input does not exceed 1000. There will be more than 1 sentence in each input and this number does not exceed 30.\n",
    "There will be more than 2 characters in every expected sentence and this number does not exceed 10000. There will be more than 2 characters in every test file and this number does not exceed 10000.\n",
    "\n",
    "OUTPUT FORMAT\n",
    "\n",
    "You will split the chunk of text into sentences, and display one sentence per line."
   ]
  },
  {
   "cell_type": "code",
   "execution_count": null,
   "metadata": {},
   "outputs": [],
   "source": [
    "import re\n",
    "\n",
    "def split_sentences(text):\n",
    "    # Define regex patterns for identifying sentence boundaries\n",
    "    sentence_endings = r'(?<!\\w\\.\\w.)(?<![A-Z][a-z]\\.)(?<=\\.|\\?|!|\\:)\\s'\n",
    "    # Split the text into sentences using regex\n",
    "    sentences = re.split(sentence_endings, text)\n",
    "    # Return the list of sentences\n",
    "    return sentences\n",
    "\n",
    "# Read input text from stdin\n",
    "input_text = input().strip()\n",
    "\n",
    "# Split the text into sentences\n",
    "sentences = split_sentences(input_text)\n",
    "\n",
    "# Print each sentence on a separate line\n",
    "for sentence in sentences:\n",
    "    print(sentence.strip())\n"
   ]
  }
 ],
 "metadata": {
  "kernelspec": {
   "display_name": "google",
   "language": "python",
   "name": "python3"
  },
  "language_info": {
   "name": "python",
   "version": "3.10.13"
  }
 },
 "nbformat": 4,
 "nbformat_minor": 2
}
