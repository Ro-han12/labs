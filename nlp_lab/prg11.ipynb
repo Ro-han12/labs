{
 "cells": [
  {
   "cell_type": "code",
   "execution_count": null,
   "metadata": {},
   "outputs": [],
   "source": [
    "import nltk\n",
    "from nltk.tokenize import word_tokenize\n",
    "\n",
    "# Download NLTK resources if not already downloaded\n",
    "nltk.download('punkt')\n",
    "nltk.download('averaged_perceptron_tagger')\n",
    "\n",
    "def pos_tagging(sentence):\n",
    "    # Tokenize the sentence into words\n",
    "    words = word_tokenize(sentence)\n",
    "\n",
    "    # Perform POS tagging\n",
    "    pos_tags = nltk.pos_tag(words)\n",
    "\n",
    "    return pos_tags\n",
    "\n",
    "def main():\n",
    "    sentence = \"The quick brown fox jumps over the lazy dog.\"\n",
    "    pos_tags = pos_tagging(sentence)\n",
    "    print(\"POS tags for the sentence:\")\n",
    "    print(pos_tags)\n",
    "\n",
    "if __name__ == \"__main__\":\n",
    "    main()\n"
   ]
  }
 ],
 "metadata": {
  "language_info": {
   "name": "python"
  }
 },
 "nbformat": 4,
 "nbformat_minor": 2
}
