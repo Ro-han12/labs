{
 "cells": [
  {
   "cell_type": "code",
   "execution_count": 2,
   "metadata": {},
   "outputs": [
    {
     "name": "stdout",
     "output_type": "stream",
     "text": [
      "[(('input', 'text'), 1), (('text', 'goes'), 1), (('goes', 'replace'), 1), (('replace', 'actual'), 1), (('actual', 'text'), 1)]\n"
     ]
    },
    {
     "name": "stderr",
     "output_type": "stream",
     "text": [
      "[nltk_data] Downloading package stopwords to\n",
      "[nltk_data]     /Users/rohansridhar/nltk_data...\n",
      "[nltk_data]   Package stopwords is already up-to-date!\n"
     ]
    }
   ],
   "source": [
    "import nltk\n",
    "from nltk.corpus import stopwords\n",
    "from nltk import bigrams\n",
    "from collections import Counter\n",
    "\n",
    "nltk.download('stopwords')\n",
    "\n",
    "def most_frequent_bigrams(text, num_bigrams=50):\n",
    "    # Tokenize the text into words\n",
    "    words = nltk.word_tokenize(text.lower())\n",
    "\n",
    "    # Filter out stopwords\n",
    "    stop_words = set(stopwords.words('english'))\n",
    "    filtered_words = [word for word in words if word.isalnum() and word not in stop_words]\n",
    "\n",
    "    # Create bigrams\n",
    "    bigrams_list = list(bigrams(filtered_words))\n",
    "\n",
    "    # Count bigram frequencies\n",
    "    bigram_freq = Counter(bigrams_list)\n",
    "\n",
    "    # Filter out bigrams containing stopwords\n",
    "    filtered_bigrams = {bigram: freq for bigram, freq in bigram_freq.items() if all(word not in stop_words for word in bigram)}\n",
    "\n",
    "    # Get the most common bigrams\n",
    "    most_common_bigrams = Counter(filtered_bigrams).most_common(num_bigrams)\n",
    "\n",
    "    return most_common_bigrams\n",
    "\n",
    "# Example usage:\n",
    "text = \"Your input text goes here. Replace this with your actual text.\"\n",
    "result = most_frequent_bigrams(text)\n",
    "print(result)\n"
   ]
  },
  {
   "cell_type": "code",
   "execution_count": null,
   "metadata": {},
   "outputs": [],
   "source": []
  }
 ],
 "metadata": {
  "kernelspec": {
   "display_name": "Python 3",
   "language": "python",
   "name": "python3"
  },
  "language_info": {
   "codemirror_mode": {
    "name": "ipython",
    "version": 3
   },
   "file_extension": ".py",
   "mimetype": "text/x-python",
   "name": "python",
   "nbconvert_exporter": "python",
   "pygments_lexer": "ipython3",
   "version": "3.9.6"
  }
 },
 "nbformat": 4,
 "nbformat_minor": 2
}
