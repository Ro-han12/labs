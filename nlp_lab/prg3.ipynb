{
 "cells": [
  {
   "cell_type": "code",
   "execution_count": 2,
   "metadata": {},
   "outputs": [
    {
     "name": "stdout",
     "output_type": "stream",
     "text": [
      "[(('input', 'text'), 1), (('text', 'goes'), 1), (('goes', 'replace'), 1), (('replace', 'actual'), 1), (('actual', 'text'), 1)]\n"
     ]
    }
   ],
   "source": [
    "import nltk\n",
    "from nltk.corpus import stopwords\n",
    "from nltk.tokenize import word_tokenize\n",
    "from collections import Counter\n",
    "\n",
    "def most_frequent_bigrams(text):\n",
    "    # Tokenize the text\n",
    "    tokens = word_tokenize(text)\n",
    "    \n",
    "    # Get English stopwords\n",
    "    english_stopwords = set(stopwords.words('english'))\n",
    "    \n",
    "    # Filter out stopwords and punctuation\n",
    "    filtered_tokens = [word.lower() for word in tokens if word.isalpha() and word.lower() not in english_stopwords]\n",
    "    \n",
    "    # Get bigrams from the filtered tokens\n",
    "    bigrams = list(nltk.bigrams(filtered_tokens))\n",
    "    \n",
    "    # Count the occurrences of each bigram\n",
    "    bigram_count = Counter(bigrams)\n",
    "    \n",
    "    # Get the 50 most common bigrams\n",
    "    most_common_bigrams = bigram_count.most_common(50)\n",
    "    \n",
    "    return most_common_bigrams\n",
    "\n",
    "# Example usage:\n",
    "# Read text from a file\n",
    "text = \"Your input text goes here. Replace this with your actual text.\"\n",
    "\n",
    "# Find the 50 most frequent bigrams excluding those containing stopwords\n",
    "frequent_bigrams = most_frequent_bigrams(text)\n",
    "\n",
    "# Print the result\n",
    "print(frequent_bigrams)\n"
   ]
  },
  {
   "cell_type": "code",
   "execution_count": 5,
   "metadata": {},
   "outputs": [
    {
     "name": "stdout",
     "output_type": "stream",
     "text": [
      "{'rohan', 'julie', 'mini'}\n",
      "<FreqDist with 3 samples and 3 outcomes>\n"
     ]
    }
   ],
   "source": [
    "names=['rohan','mini','julie']\n",
    "print(set(names))\n",
    "from nltk import FreqDist\n",
    "print(FreqDist(names))"
   ]
  },
  {
   "cell_type": "code",
   "execution_count": null,
   "metadata": {},
   "outputs": [],
   "source": []
  }
 ],
 "metadata": {
  "kernelspec": {
   "display_name": "Python 3",
   "language": "python",
   "name": "python3"
  },
  "language_info": {
   "codemirror_mode": {
    "name": "ipython",
    "version": 3
   },
   "file_extension": ".py",
   "mimetype": "text/x-python",
   "name": "python",
   "nbconvert_exporter": "python",
   "pygments_lexer": "ipython3",
   "version": "3.9.6"
  }
 },
 "nbformat": 4,
 "nbformat_minor": 2
}
