{
 "cells": [
  {
   "cell_type": "code",
   "execution_count": 1,
   "metadata": {},
   "outputs": [
    {
     "name": "stdout",
     "output_type": "stream",
     "text": [
      "The word 'the' appears 5580 times in the 'news' section of the Brown Corpus.\n"
     ]
    },
    {
     "name": "stderr",
     "output_type": "stream",
     "text": [
      "[nltk_data] Downloading package brown to\n",
      "[nltk_data]     /Users/rohansridhar/nltk_data...\n",
      "[nltk_data]   Package brown is already up-to-date!\n"
     ]
    }
   ],
   "source": [
    "p\n",
    "\n",
    "def word_freq(word, section):\n",
    "    try:\n",
    "        # Get the words from the specified section of the Brown Corpus\n",
    "        words_in_section = brown.words(categories=section)\n",
    "\n",
    "        # Compute the frequency of the word in the specified section\n",
    "        freq = words_in_section.count(word)\n",
    "\n",
    "        return freq\n",
    "    except ValueError:\n",
    "        print(f\"Section '{section}' does not exist in the Brown Corpus.\")\n",
    "        return None\n",
    "\n",
    "# Example usage:\n",
    "word = \"the\"\n",
    "section = \"news\"\n",
    "frequency = word_freq(word, section)\n",
    "if frequency is not None:\n",
    "    print(f\"The word '{word}' appears {frequency} times in the '{section}' section of the Brown Corpus.\")\n"
   ]
  },
  {
   "cell_type": "code",
   "execution_count": null,
   "metadata": {},
   "outputs": [],
   "source": []
  }
 ],
 "metadata": {
  "kernelspec": {
   "display_name": "Python 3",
   "language": "python",
   "name": "python3"
  },
  "language_info": {
   "codemirror_mode": {
    "name": "ipython",
    "version": 3
   },
   "file_extension": ".py",
   "mimetype": "text/x-python",
   "name": "python",
   "nbconvert_exporter": "python",
   "pygments_lexer": "ipython3",
   "version": "3.9.6"
  }
 },
 "nbformat": 4,
 "nbformat_minor": 2
}
