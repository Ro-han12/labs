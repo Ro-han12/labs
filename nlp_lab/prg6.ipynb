{
 "cells": [
  {
   "cell_type": "code",
   "execution_count": 17,
   "metadata": {},
   "outputs": [
    {
     "name": "stderr",
     "output_type": "stream",
     "text": [
      "[nltk_data] Downloading package punkt to\n",
      "[nltk_data]     /Users/rohansridhar/nltk_data...\n",
      "[nltk_data]   Package punkt is already up-to-date!\n",
      "[nltk_data] Downloading package gutenberg to\n",
      "[nltk_data]     /Users/rohansridhar/nltk_data...\n",
      "[nltk_data]   Unzipping corpora/gutenberg.zip.\n"
     ]
    },
    {
     "data": {
      "text/plain": [
       "True"
      ]
     },
     "execution_count": 17,
     "metadata": {},
     "output_type": "execute_result"
    }
   ],
   "source": [
    "import nltk \n",
    "from nltk import word_tokenize\n",
    "from nltk import corpus\n",
    "from nltk.corpus import gutenberg\n",
    "nltk.download('punkt')\n",
    "nltk.download('gutenberg')\n",
    "\n"
   ]
  },
  {
   "cell_type": "code",
   "execution_count": 25,
   "metadata": {},
   "outputs": [
    {
     "name": "stdout",
     "output_type": "stream",
     "text": [
      "['what', 'what', 'what', 'what', 'what', 'what', 'what', 'what', 'what', 'what', 'what', 'what', 'what', 'what', 'what', 'what', 'what', 'what', 'what', 'what', 'what', 'what', 'what', 'what', 'what', 'what', 'what', 'what', 'what', 'what', 'what', 'what', 'what', 'what', 'what', 'what', 'what', 'what', 'what', 'what', 'what', 'what', 'what', 'what', 'what', 'what', 'what', 'what', 'what', 'what', 'what', 'what', 'what', 'what', 'what', 'what', 'what', 'what', 'what', 'what', 'what', 'what', 'what', 'what', 'what', 'what', 'what', 'what', 'what', 'what', 'what', 'what', 'what', 'what', 'what', 'what', 'what', 'what', 'what', 'what', 'what', 'what', 'what', 'what', 'what', 'what', 'what', 'what', 'what', 'what', 'what', 'what', 'what', 'what', 'what', 'what', 'what', 'what', 'what', 'what', 'what', 'what', 'what', 'what', 'what', 'what', 'what', 'what', 'what', 'what', 'what', 'what', 'what', 'what', 'what', 'what', 'whatsoeuer', 'wheaten', 'wheele', 'wheele', 'wheele', 'when', 'when', 'when', 'when', 'when', 'when', 'when', 'when', 'when', 'when', 'when', 'when', 'when', 'when', 'when', 'when', 'when', 'when', 'when', 'when', 'when', 'when', 'when', 'when', 'when', 'when', 'when', 'whence', 'where', 'where', 'where', 'where', 'where', 'where', 'where', 'where', 'where', 'where', 'where', 'where', 'where', 'where', 'where', 'where', 'where', 'where', 'where', 'where', 'where', 'where', 'where', 'where', 'where', 'where', 'where', 'where', 'where', 'where', 'where', 'where', 'whereat', 'wherefore', 'wherefore', 'whereof', 'whereon', 'whereon', 'whereto', 'whereto', 'whereto', 'whet', 'whether', 'which', 'which', 'which', 'which', 'which', 'which', 'which', 'which', 'which', 'which', 'which', 'which', 'which', 'which', 'which', 'which', 'which', 'which', 'which', 'which', 'which', 'which', 'which', 'which', 'which', 'which', 'which', 'which', 'which', 'which', 'which', 'which', 'which', 'which', 'which', 'which', 'which', 'which', 'which', 'whiffe', \"whil'st\", \"whil'st\", 'while', 'while', 'while', 'while', 'while', 'while', 'while', 'while', 'while', 'while', 'while', 'while', 'whiles', 'whilst', 'whilst', 'whine', 'whipping', 'whips', 'whipt', 'whisper', 'whispers', 'whit', 'white', 'white', 'white', 'who', 'who', 'who', 'who', 'who', 'who', 'who', 'who', 'who', 'who', 'who', 'who', 'who', 'who', 'who', 'who', 'who', 'who', 'whole', 'whole', 'whole', 'whole', 'whole', 'whole', 'whole', 'whole', 'wholsom', 'wholsome', 'wholsome', 'wholsome', 'wholsome', 'wholsome', 'whom', 'whom', 'whom', 'whom', 'whor', 'whoreson', 'whose', 'whose', 'whose', 'whose', 'whose', 'whose', 'whose', 'whose', 'whose', 'whose', 'whose', 'whose', 'whose', 'whose', 'whose', 'whose', 'whose', 'whose', 'whose', 'why', 'why', 'why', 'why', 'why', 'why', 'why', 'why', 'why', 'why', 'why', 'why', 'why']\n"
     ]
    }
   ],
   "source": [
    "text=gutenberg.raw('shakespeare-hamlet.txt')\n",
    "tokens=word_tokenize(text)\n",
    "wh_words=[word for word in tokens if word.startswith('wh')]\n",
    "wh_words.sort()\n",
    "print(wh_words)"
   ]
  },
  {
   "cell_type": "code",
   "execution_count": null,
   "metadata": {},
   "outputs": [],
   "source": []
  }
 ],
 "metadata": {
  "kernelspec": {
   "display_name": "Python 3",
   "language": "python",
   "name": "python3"
  },
  "language_info": {
   "codemirror_mode": {
    "name": "ipython",
    "version": 3
   },
   "file_extension": ".py",
   "mimetype": "text/x-python",
   "name": "python",
   "nbconvert_exporter": "python",
   "pygments_lexer": "ipython3",
   "version": "3.9.6"
  }
 },
 "nbformat": 4,
 "nbformat_minor": 2
}
