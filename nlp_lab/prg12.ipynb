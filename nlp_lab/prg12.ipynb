{
 "cells": [
  {
   "cell_type": "code",
   "execution_count": 1,
   "metadata": {},
   "outputs": [
    {
     "name": "stderr",
     "output_type": "stream",
     "text": [
      "[nltk_data] Downloading package punkt to\n",
      "[nltk_data]     /Users/rohansridhar/nltk_data...\n",
      "[nltk_data]   Package punkt is already up-to-date!\n",
      "[nltk_data] Downloading package stopwords to\n",
      "[nltk_data]     /Users/rohansridhar/nltk_data...\n",
      "[nltk_data]   Package stopwords is already up-to-date!\n",
      "[nltk_data] Downloading package wordnet to\n",
      "[nltk_data]     /Users/rohansridhar/nltk_data...\n",
      "[nltk_data]   Package wordnet is already up-to-date!\n"
     ]
    },
    {
     "name": "stdout",
     "output_type": "stream",
     "text": [
      "Predicted label: sports\n"
     ]
    }
   ],
   "source": [
    "import nltk\n",
    "from nltk.tokenize import word_tokenize\n",
    "from nltk.corpus import stopwords\n",
    "from nltk.stem import WordNetLemmatizer\n",
    "from sklearn.feature_extraction.text import TfidfVectorizer\n",
    "from sklearn.naive_bayes import MultinomialNB\n",
    "nltk.download('punkt')\n",
    "nltk.download('stopwords')\n",
    "nltk.download('wordnet')\n",
    "\n",
    "def preprocess_text(text):\n",
    "    words = word_tokenize(text)\n",
    "    stop_words = set(stopwords.words(\"english\"))\n",
    "    filtered_words = [word.lower() for word in words if word.lower() not in stop_words]\n",
    "    \n",
    "    lemmatizer = WordNetLemmatizer()\n",
    "    lemmatized_words = [lemmatizer.lemmatize(word) for word in filtered_words]\n",
    "    \n",
    "    return \" \".join(lemmatized_words)\n",
    "\n",
    "def text_classification(sentences, labels, test_sentence):\n",
    "    preprocessed_sentences = [preprocess_text(sentence) for sentence in sentences]\n",
    "    \n",
    "    preprocessed_test_sentence = preprocess_text(test_sentence)\n",
    "    \n",
    "    vectorizer = TfidfVectorizer()\n",
    "    X_train = vectorizer.fit_transform(preprocessed_sentences)\n",
    "    \n",
    "    # Train a Naive Bayes classifier\n",
    "    classifier = MultinomialNB()\n",
    "    classifier.fit(X_train, labels)\n",
    "    \n",
    "    # Vectorize the preprocessed test sentence\n",
    "    X_test = vectorizer.transform([preprocessed_test_sentence])\n",
    "    \n",
    "    # Predict the label for the test sentence\n",
    "    predicted_label = classifier.predict(X_test)\n",
    "    \n",
    "    return predicted_label[0]\n",
    "\n",
    "def main():\n",
    "    sentences = [\n",
    "        \"I love to play football.\",\n",
    "        \"She sings beautifully.\",\n",
    "        \"He is a great chef.\",\n",
    "        \"The movie was boring.\",\n",
    "        \"They won the championship.\",\n",
    "        \"The weather is nice today.\"\n",
    "    ]\n",
    "    labels = [\"sports\", \"music\", \"food\", \"movies\", \"sports\", \"weather\"]\n",
    "    \n",
    "    # Test sentence\n",
    "    test_sentence = \"I am going to watch a movie tonight.\"\n",
    "    \n",
    "    # Perform text classification\n",
    "    predicted_label = text_classification(sentences, labels, test_sentence)\n",
    "    print(\"Predicted label:\", predicted_label)\n",
    "\n",
    "if __name__ == \"__main__\":\n",
    "    main()\n"
   ]
  }
 ],
 "metadata": {
  "kernelspec": {
   "display_name": "google",
   "language": "python",
   "name": "python3"
  },
  "language_info": {
   "codemirror_mode": {
    "name": "ipython",
    "version": 3
   },
   "file_extension": ".py",
   "mimetype": "text/x-python",
   "name": "python",
   "nbconvert_exporter": "python",
   "pygments_lexer": "ipython3",
   "version": "3.10.13"
  }
 },
 "nbformat": 4,
 "nbformat_minor": 2
}
