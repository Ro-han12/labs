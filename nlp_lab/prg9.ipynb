{
 "cells": [
  {
   "cell_type": "code",
   "execution_count": 1,
   "metadata": {},
   "outputs": [
    {
     "name": "stdout",
     "output_type": "stream",
     "text": [
      "Original Sentence: It is important to be very careful when you are handling sensitive information.\n",
      "Stemmed Sentence: it is import to be veri care when you are handl sensit inform .\n"
     ]
    }
   ],
   "source": [
    "# Import the necessary libraries\n",
    "from nltk.stem import PorterStemmer\n",
    "from nltk.tokenize import word_tokenize\n",
    "\n",
    "# Initialize the PorterStemmer\n",
    "stemmer = PorterStemmer()\n",
    "\n",
    "# Function to perform stemming on a given sentence\n",
    "def perform_stemming(sentence):\n",
    "    # Tokenize the sentence into words\n",
    "    words = word_tokenize(sentence)\n",
    "    \n",
    "    # Perform stemming on each word\n",
    "    stemmed_words = [stemmer.stem(word) for word in words]\n",
    "    \n",
    "    # Return the stemmed sentence\n",
    "    return ' '.join(stemmed_words)\n",
    "\n",
    "# Input sentence\n",
    "sentence = \"It is important to be very careful when you are handling sensitive information.\"\n",
    "\n",
    "# Perform stemming on the input sentence\n",
    "stemmed_sentence = perform_stemming(sentence)\n",
    "\n",
    "# Print the original and stemmed sentences\n",
    "print(\"Original Sentence:\", sentence)\n",
    "print(\"Stemmed Sentence:\", stemmed_sentence)\n"
   ]
  },
  {
   "cell_type": "code",
   "execution_count": null,
   "metadata": {},
   "outputs": [],
   "source": []
  }
 ],
 "metadata": {
  "kernelspec": {
   "display_name": "Python 3",
   "language": "python",
   "name": "python3"
  },
  "language_info": {
   "codemirror_mode": {
    "name": "ipython",
    "version": 3
   },
   "file_extension": ".py",
   "mimetype": "text/x-python",
   "name": "python",
   "nbconvert_exporter": "python",
   "pygments_lexer": "ipython3",
   "version": "3.9.6"
  }
 },
 "nbformat": 4,
 "nbformat_minor": 2
}
