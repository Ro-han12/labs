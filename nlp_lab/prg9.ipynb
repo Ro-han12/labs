{
 "cells": [
  {
   "cell_type": "code",
   "execution_count": 1,
   "metadata": {},
   "outputs": [
    {
     "name": "stdout",
     "output_type": "stream",
     "text": [
      "Original Sentence: It is important to be very careful when you are handling sensitive information.\n",
      "Stemmed Sentence: it is import to be veri care when you are handl sensit inform .\n"
     ]
    }
   ],
   "source": [
    "# Import the necessary libraries\n",
    "from nltk.stem import PorterStemmer\n",
    "from nltk.tokenize import word_tokenize\n",
    "\n",
    "# Initialize the PorterStemmer\n",
    "stemmer = PorterStemmer()\n",
    "\n",
    "# Function to perform stemming on a given sentence\n",
    "def perform_stemming(sentence):\n",
    "    # Tokenize the sentence into words\n",
    "    words = word_tokenize(sentence)\n",
    "    \n",
    "    # Perform stemming on each word\n",
    "    stemmed_words = [stemmer.stem(word) for word in words]\n",
    "    \n",
    "    # Return the stemmed sentence\n",
    "    return ' '.join(stemmed_words)\n",
    "\n",
    "# Input sentence\n",
    "sentence = \"It is important to be very careful when you are handling sensitive information.\"\n",
    "\n",
    "# Perform stemming on the input sentence\n",
    "stemmed_sentence = perform_stemming(sentence)\n",
    "\n",
    "# Print the original and stemmed sentences\n",
    "print(\"Original Sentence:\", sentence)\n",
    "print(\"Stemmed Sentence:\", stemmed_sentence)\n"
   ]
  },
  {
   "cell_type": "code",
   "execution_count": 4,
   "metadata": {},
   "outputs": [
    {
     "name": "stdout",
     "output_type": "stream",
     "text": [
      "Accuracy: 0.0\n"
     ]
    }
   ],
   "source": [
    "from sklearn.feature_extraction.text import CountVectorizer\n",
    "from sklearn.model_selection import train_test_split\n",
    "from sklearn.linear_model import LogisticRegression\n",
    "from sklearn.metrics import accuracy_score\n",
    "\n",
    "# Sample text data (you can replace it with your own dataset)\n",
    "texts = [\n",
    "    \"This is a good movie\",\n",
    "    \"The plot was interesting\",\n",
    "    \"I did not like the acting\",\n",
    "    \"The movie was boring\",\n",
    "    \"The acting was excellent\"\n",
    "]\n",
    "# Corresponding labels\n",
    "labels = [1, 1, 0, 0, 1]  # 1 for positive sentiment, 0 for negative sentiment\n",
    "\n",
    "# Step 1: Vectorize the text data using Bag-of-Words representation\n",
    "vectorizer = CountVectorizer()\n",
    "X = vectorizer.fit_transform(texts)\n",
    "\n",
    "# Step 2: Split the data into training and testing sets\n",
    "X_train, X_test, y_train, y_test = train_test_split(X, labels, test_size=0.3, random_state=42)\n",
    "\n",
    "# Step 3: Train a classifier (Logistic Regression in this case)\n",
    "classifier = LogisticRegression()\n",
    "classifier.fit(X_train, y_train)\n",
    "\n",
    "# Step 4: Make predictions on the test data\n",
    "y_pred = classifier.predict(X_test)\n",
    "\n",
    "# Step 5: Evaluate the performance\n",
    "accuracy = accuracy_score(y_test, y_pred)\n",
    "print(\"Accuracy:\", accuracy)\n"
   ]
  },
  {
   "cell_type": "code",
   "execution_count": null,
   "metadata": {},
   "outputs": [],
   "source": []
  }
 ],
 "metadata": {
  "kernelspec": {
   "display_name": "Python 3",
   "language": "python",
   "name": "python3"
  },
  "language_info": {
   "codemirror_mode": {
    "name": "ipython",
    "version": 3
   },
   "file_extension": ".py",
   "mimetype": "text/x-python",
   "name": "python",
   "nbconvert_exporter": "python",
   "pygments_lexer": "ipython3",
   "version": "3.9.6"
  }
 },
 "nbformat": 4,
 "nbformat_minor": 2
}
