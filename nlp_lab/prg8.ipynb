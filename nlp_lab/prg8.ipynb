{
 "cells": [
  {
   "cell_type": "code",
   "execution_count": 1,
   "metadata": {},
   "outputs": [
    {
     "name": "stdout",
     "output_type": "stream",
     "text": [
      "Passage after removing stopwords:\n",
      "example passage stopwords 'the ' 'is ' .\n"
     ]
    },
    {
     "name": "stderr",
     "output_type": "stream",
     "text": [
      "[nltk_data] Downloading package stopwords to\n",
      "[nltk_data]     /Users/rohansridhar/nltk_data...\n",
      "[nltk_data]   Package stopwords is already up-to-date!\n",
      "[nltk_data] Downloading package punkt to\n",
      "[nltk_data]     /Users/rohansridhar/nltk_data...\n",
      "[nltk_data]   Package punkt is already up-to-date!\n"
     ]
    }
   ],
   "source": [
    "import nltk\n",
    "from nltk.corpus import stopwords\n",
    "\n",
    "# Download NLTK stopwords if not already downloaded\n",
    "nltk.download('stopwords')\n",
    "nltk.download('punkt')  # You might need to download 'punkt' for word tokenization\n",
    "\n",
    "def remove_stopwords_from_passage(passage):\n",
    "    # Tokenize the passage into words\n",
    "    words = nltk.word_tokenize(passage)\n",
    "\n",
    "    # Get English stopwords\n",
    "    stop_words = set(stopwords.words('english'))\n",
    "\n",
    "    # Remove stopwords from the passage\n",
    "    filtered_words = [word for word in words if word.lower() not in stop_words]\n",
    "\n",
    "    # Join the filtered words back into a passage\n",
    "    filtered_passage = ' '.join(filtered_words)\n",
    "\n",
    "    return filtered_passage\n",
    "\n",
    "# Example usage\n",
    "passage = \"This is an example passage with some stopwords such as 'the' and 'is'.\"\n",
    "filtered_passage = remove_stopwords_from_passage(passage)\n",
    "print(\"Passage after removing stopwords:\")\n",
    "print(filtered_passage)\n"
   ]
  }
 ],
 "metadata": {
  "kernelspec": {
   "display_name": "cust",
   "language": "python",
   "name": "python3"
  },
  "language_info": {
   "codemirror_mode": {
    "name": "ipython",
    "version": 3
   },
   "file_extension": ".py",
   "mimetype": "text/x-python",
   "name": "python",
   "nbconvert_exporter": "python",
   "pygments_lexer": "ipython3",
   "version": "3.9.6"
  }
 },
 "nbformat": 4,
 "nbformat_minor": 2
}
