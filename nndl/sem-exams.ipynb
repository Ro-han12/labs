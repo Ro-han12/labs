{
 "cells": [
  {
   "cell_type": "code",
   "execution_count": 4,
   "metadata": {},
   "outputs": [
    {
     "name": "stdout",
     "output_type": "stream",
     "text": [
      "Epoch 1/10\n",
      "4/4 [==============================] - 0s 14ms/step - loss: 81.3189\n",
      "Epoch 2/10\n",
      "4/4 [==============================] - 0s 5ms/step - loss: 0.0740\n",
      "Epoch 3/10\n",
      "4/4 [==============================] - 0s 5ms/step - loss: 0.0756\n",
      "Epoch 4/10\n",
      "4/4 [==============================] - 0s 5ms/step - loss: 0.0689\n",
      "Epoch 5/10\n",
      "4/4 [==============================] - 0s 5ms/step - loss: 0.0673\n",
      "Epoch 6/10\n",
      "4/4 [==============================] - 0s 5ms/step - loss: 0.0694\n",
      "Epoch 7/10\n",
      "4/4 [==============================] - 0s 5ms/step - loss: 0.0637\n",
      "Epoch 8/10\n",
      "4/4 [==============================] - 0s 5ms/step - loss: 0.0611\n",
      "Epoch 9/10\n",
      "4/4 [==============================] - 0s 5ms/step - loss: 0.0608\n",
      "Epoch 10/10\n",
      "4/4 [==============================] - 0s 5ms/step - loss: 0.0576\n"
     ]
    },
    {
     "data": {
      "image/png": "[encoded data removed]",
      "text/plain": [
       "<Figure size 640x480 with 1 Axes>"
      ]
     },
     "metadata": {},
     "output_type": "display_data"
    }
   ],
   "source": [
    "#regression model\n",
    "import numpy as np \n",
    "import tensorflow as tf \n",
    "from tensorflow.keras.models import Sequential\n",
    "from tensorflow.keras.layers import Dense,Input\n",
    "import matplotlib.pyplot as plt \n",
    "np.random.seed(42)\n",
    "x_train=np.linspace(1,10,100)\n",
    "y_train=x_train*2+1\n",
    "model=Sequential()\n",
    "model.add(Input(1,))\n",
    "model.add(Dense(units=1,activation='linear'))\n",
    "model.compile(loss='mean_squared_error',optimizer='sgd')\n",
    "history=model.fit(x_train,y_train,epochs=10)\n",
    "plt.plot(history.history['loss'])\n",
    "plt.xlabel('epochs')\n",
    "plt.ylabel('loss')\n",
    "plt.show()"
   ]
  },
  {
   "cell_type": "code",
   "execution_count": 5,
   "metadata": {},
   "outputs": [
    {
     "name": "stdout",
     "output_type": "stream",
     "text": [
      "cost after iterations->0:0.693147\n",
      "cost after iterations->100:0.683099\n",
      "cost after iterations->200:0.683099\n",
      "cost after iterations->300:0.683099\n",
      "cost after iterations->400:0.683099\n",
      "cost after iterations->500:0.683099\n",
      "cost after iterations->600:0.683099\n",
      "cost after iterations->700:0.683099\n",
      "cost after iterations->800:0.683099\n",
      "cost after iterations->900:0.683099\n",
      "cost after iterations->1000:0.683099\n",
      "cost after iterations->1100:0.683099\n",
      "cost after iterations->1200:0.683099\n",
      "cost after iterations->1300:0.683099\n",
      "cost after iterations->1400:0.683099\n",
      "cost after iterations->1500:0.683099\n",
      "cost after iterations->1600:0.683099\n",
      "cost after iterations->1700:0.683099\n",
      "cost after iterations->1800:0.683099\n",
      "cost after iterations->1900:0.683099\n"
     ]
    }
   ],
   "source": [
    "#gradient descent \n",
    "\n",
    "import numpy as np \n",
    "def initialise_parameters(dim):\n",
    "    w=np.zeros((dim,1))\n",
    "    b=0\n",
    "    return w,b \n",
    "def sigmoid(z):\n",
    "    s=1/(1+np.exp(-z))\n",
    "    return s \n",
    "def propogate(w,b,x,y):\n",
    "    m=x.shape[1]\n",
    "    A=sigmoid(np.dot(w.T,x))+b \n",
    "    cost=-1/m*np.sum(y*np.log(A)+(1-y)*np.log(1-A))\n",
    "    dw=1/m*np.dot(x,(A-y).T)\n",
    "    db=1/m*np.sum((A-y))\n",
    "    grads={'dw':dw,'db':db}\n",
    "    return grads,cost \n",
    "def optimise(w,b,x,y,num_iterations,learning_rate,print_cost=True):\n",
    "    costs=[]\n",
    "    for i in range(num_iterations):\n",
    "        grads,cost=propogate(w,b,x,y)\n",
    "        dw=grads['dw']\n",
    "        db=grads['db']\n",
    "        w-=learning_rate*dw\n",
    "        b-=learning_rate*db \n",
    "        if i%100==0:\n",
    "            costs.append(cost)\n",
    "        if print_cost and i%100==0:\n",
    "            print(\"cost after iterations->%i:%f\"%(i,cost))\n",
    "    params={'w':w,'b':b}\n",
    "    grads={'dw':dw,'db':db}\n",
    "    return params,grads,cost \n",
    "def model(x_train,y_train,num_iterations=2000,learning_rate=0.5,print_cost=True):\n",
    "    w,b=initialise_parameters(x_train.shape[0])\n",
    "    parameters,_,cost=optimise(w,b,x_train,y_train,num_iterations,learning_rate,print_cost=True)\n",
    "    w,b=parameters['w'],parameters['b']\n",
    "    return {'cost':cost,'w':w,'b':b,'learning_rate':learning_rate,'num_iterations':num_iterations}\n",
    "np.random.seed(0)\n",
    "x_train=np.random.randn(20,1000)\n",
    "y_train=np.random.randint(2,size=(1,1000))\n",
    "x_test=np.random.randn(20,200)\n",
    "y_test=np.random.randint(2,size=(1,200))\n",
    "res=model(x_train,y_train,num_iterations=2000,learning_rate=0.5,print_cost=True)\n",
    "    \n",
    "            \n",
    "    "
   ]
  },
  {
   "cell_type": "code",
   "execution_count": 6,
   "metadata": {},
   "outputs": [
    {
     "name": "stdout",
     "output_type": "stream",
     "text": [
      "1/1 [==============================] - 0s 176ms/step - loss: 0.6931 - accuracy: 0.5000\n",
      "Accuracy: 50.00%\n",
      "1/1 [==============================] - 0s 56ms/step\n",
      "Predictions:\n",
      "[[0.5       ]\n",
      " [0.49999988]\n",
      " [0.5       ]\n",
      " [0.49999982]]\n",
      "[array([[ 0.65949804, -0.02218628],\n",
      "       [ 1.157893  , -0.30752796]], dtype=float32), array([-0.659448,  0.      ], dtype=float32)]\n",
      "[array([[-5.4599241e-08],\n",
      "       [ 2.0473983e-06]], dtype=float32), array([-8.4572946e-08], dtype=float32)]\n"
     ]
    }
   ],
   "source": [
    "#xor gate \n",
    "import numpy as np\n",
    "import tensorflow as tf\n",
    "from tensorflow.keras.models import Sequential\n",
    "from tensorflow.keras.layers import Dense\n",
    "\n",
    "# Define the XOR input and output\n",
    "X = np.array([[0, 0],\n",
    "              [0, 1],\n",
    "              [1, 0],\n",
    "              [1, 1]], dtype=np.float32)\n",
    "\n",
    "y = np.array([[0],\n",
    "              [1],\n",
    "              [1],\n",
    "              [0]], dtype=np.float32)\n",
    "\n",
    "# Define the neural network model\n",
    "model = Sequential()\n",
    "model.add(Dense(2, input_dim=2, activation='relu'))  # First hidden layer with 2 neurons and ReLU activation\n",
    "model.add(Dense(1, activation='sigmoid'))            # Output layer with 1 neuron and sigmoid activation\n",
    "\n",
    "# Compile the model\n",
    "model.compile(loss='binary_crossentropy', optimizer='adam', metrics=['accuracy'])\n",
    "\n",
    "# Train the model\n",
    "model.fit(X, y, epochs=10000, verbose=0)\n",
    "\n",
    "# Evaluate the model\n",
    "loss, accuracy = model.evaluate(X, y)\n",
    "print(f'Accuracy: {accuracy * 100:.2f}%')\n",
    "\n",
    "# Make predictions\n",
    "predictions = model.predict(X)\n",
    "print('Predictions:')\n",
    "print(predictions)\n",
    "\n",
    "# Optional: Print the final weights of the model\n",
    "for layer in model.layers:\n",
    "    weights = layer.get_weights()\n",
    "    print(weights)\n"
   ]
  },
  {
   "cell_type": "code",
   "execution_count": null,
   "metadata": {},
   "outputs": [],
   "source": [
    "def initialise_parameters(dim):\n",
    "    "
   ]
  }
 ],
 "metadata": {
  "kernelspec": {
   "display_name": "google",
   "language": "python",
   "name": "python3"
  },
  "language_info": {
   "codemirror_mode": {
    "name": "ipython",
    "version": 3
   },
   "file_extension": ".py",
   "mimetype": "text/x-python",
   "name": "python",
   "nbconvert_exporter": "python",
   "pygments_lexer": "ipython3",
   "version": "3.10.13"
  }
 },
 "nbformat": 4,
 "nbformat_minor": 2
}
