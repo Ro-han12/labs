{
 "cells": [
  {
   "cell_type": "code",
   "execution_count": 8,
   "metadata": {},
   "outputs": [],
   "source": [
    "import tensorflow as tf \n",
    "from tensorflow.keras.models import Sequential\n",
    "from tensorflow.keras.layers import Dense, Conv2D,Flatten,MaxPooling2D\n",
    "from tensorflow.keras.datasets import mnist \n"
   ]
  },
  {
   "cell_type": "code",
   "execution_count": 9,
   "metadata": {},
   "outputs": [],
   "source": [
    "def load_model():\n",
    "    (train_images,train_labels),(test_images,test_labels)=mnist.load_data()\n",
    "    return train_images,train_labels,test_images,test_labels\n",
    "def preprocess(train_images,train_labels,test_images,test_labels):\n",
    "    train_images=train_images.reshape((60000,28,28,1)).astype('float32')/255\n",
    "    test_images=test_images.reshape((10000,28,28,1)).astype('float32')/255\n",
    "    train_labels=tf.keras.utils.to_categorical(train_labels)\n",
    "    test_labels=tf.keras.utils.to_categorical(test_labels)\n",
    "    return train_images,train_labels,test_images,test_labels\n",
    "def build_model(num_classes,input_shape):\n",
    "    model=Sequential()\n",
    "    model.add(Conv2D(64,kernel_size=(2,2),activation='relu',input_shape=input_shape))\n",
    "    model.add(MaxPooling2D((2,2)))\n",
    "    model.add(Conv2D(32,kernel_size=(2,2),activation='relu'))\n",
    "    model.add(Flatten())\n",
    "    model.add(Dense(64,activation='relu'))\n",
    "    model.add(Dense(num_classes,activation='softmax'))\n",
    "    model.summary()\n",
    "    return model\n",
    "def compile_model(model):\n",
    "    model.compile(optimizer='adam',loss='categorical_crossentropy',metrics=['accuracy'])\n",
    "\n",
    "def train_model(model,train_labels,train_images,epochs=10,batch_size=32):\n",
    "    history=model.fit(train_images,train_labels,epochs=epochs,batch_size=batch_size)\n",
    "    return history\n",
    "def evaluate_model(model,test_labels,test_images):\n",
    "    return model.evaluate(test_images,test_labels)\n",
    "\n"
   ]
  },
  {
   "cell_type": "code",
   "execution_count": 10,
   "metadata": {},
   "outputs": [
    {
     "name": "stdout",
     "output_type": "stream",
     "text": [
      "Model: \"sequential_1\"\n",
      "_________________________________________________________________\n",
      " Layer (type)                Output Shape              Param #   \n",
      "=================================================================\n",
      " conv2d_1 (Conv2D)           (None, 27, 27, 64)        320       \n",
      "                                                                 \n",
      " max_pooling2d (MaxPooling2  (None, 13, 13, 64)        0         \n",
      " D)                                                              \n",
      "                                                                 \n",
      " conv2d_2 (Conv2D)           (None, 12, 12, 32)        8224      \n",
      "                                                                 \n",
      " flatten (Flatten)           (None, 4608)              0         \n",
      "                                                                 \n",
      " dense (Dense)               (None, 64)                294976    \n",
      "                                                                 \n",
      " dense_1 (Dense)             (None, 10)                650       \n",
      "                                                                 \n",
      "=================================================================\n",
      "Total params: 304170 (1.16 MB)\n",
      "Trainable params: 304170 (1.16 MB)\n",
      "Non-trainable params: 0 (0.00 Byte)\n",
      "_________________________________________________________________\n"
     ]
    },
    {
     "data": {
      "text/plain": [
       "<keras.src.engine.sequential.Sequential at 0x177f30850>"
      ]
     },
     "execution_count": 10,
     "metadata": {},
     "output_type": "execute_result"
    }
   ],
   "source": [
    "num_classes=10\n",
    "input_shape=(28,28,1)\n",
    "build_model(num_classes,input_shape)"
   ]
  }
 ],
 "metadata": {
  "kernelspec": {
   "display_name": "google",
   "language": "python",
   "name": "python3"
  },
  "language_info": {
   "codemirror_mode": {
    "name": "ipython",
    "version": 3
   },
   "file_extension": ".py",
   "mimetype": "text/x-python",
   "name": "python",
   "nbconvert_exporter": "python",
   "pygments_lexer": "ipython3",
   "version": "3.10.13"
  }
 },
 "nbformat": 4,
 "nbformat_minor": 2
}
