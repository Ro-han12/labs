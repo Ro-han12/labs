{
 "cells": [
  {
   "cell_type": "code",
   "execution_count": 6,
   "metadata": {},
   "outputs": [
    {
     "name": "stdout",
     "output_type": "stream",
     "text": [
      "Model: \"sequential_5\"\n",
      "_________________________________________________________________\n",
      " Layer (type)                Output Shape              Param #   \n",
      "=================================================================\n",
      " dense_15 (Dense)            (None, 10)                110       \n",
      "                                                                 \n",
      " dense_16 (Dense)            (None, 20)                220       \n",
      "                                                                 \n",
      " dense_17 (Dense)            (None, 1)                 21        \n",
      "                                                                 \n",
      "=================================================================\n",
      "Total params: 351 (1.37 KB)\n",
      "Trainable params: 351 (1.37 KB)\n",
      "Non-trainable params: 0 (0.00 Byte)\n",
      "_________________________________________________________________\n"
     ]
    }
   ],
   "source": [
    "import tensorflow as tf\n",
    "class NeuralNetwork:\n",
    "    def __init__(self,layers_sizes):\n",
    "        self.model=tf.keras.Sequential([tf.keras.layers.Dense(units,activation='relu') for units in layers_sizes[:-1]])\n",
    "        self.model.add(tf.keras.layers.Dense(1,activation='sigmoid'))\n",
    "        self.model.compile(optimizer='adam',metrics=['accuracy'],loss='binary_crossentropy')\n",
    "        self.model.build((None,layers_sizes[0]))\n",
    "    def train(self,x_train,y_train,epochs=10,batch_size=32,validation_data=None):\n",
    "        history=self.model.train(x_train,y_train,epochs=epochs,batch_size=batch_size,validation_data=validation_data)\n",
    "        return history\n",
    "    def evaluate(self,x_test,y_test):\n",
    "        self.model.evaluate(x_test,y_test)\n",
    "    def predict(self,x):\n",
    "        self.model.predict(x)\n",
    "layers_sizes=[10,20,1]\n",
    "nn=NeuralNetwork(layers_sizes)\n",
    "nn.model.summary()"
   ]
  },
  {
   "cell_type": "code",
   "execution_count": null,
   "metadata": {},
   "outputs": [],
   "source": []
  }
 ],
 "metadata": {
  "kernelspec": {
   "display_name": "google",
   "language": "python",
   "name": "python3"
  },
  "language_info": {
   "codemirror_mode": {
    "name": "ipython",
    "version": 3
   },
   "file_extension": ".py",
   "mimetype": "text/x-python",
   "name": "python",
   "nbconvert_exporter": "python",
   "pygments_lexer": "ipython3",
   "version": "3.10.13"
  }
 },
 "nbformat": 4,
 "nbformat_minor": 2
}
