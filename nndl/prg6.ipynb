{
 "cells": [
  {
   "cell_type": "code",
   "execution_count": 1,
   "metadata": {},
   "outputs": [
    {
     "name": "stderr",
     "output_type": "stream",
     "text": [
      "2024-05-05 16:08:49.205176: I metal_plugin/src/device/metal_device.cc:1154] Metal device set to: Apple M1\n",
      "2024-05-05 16:08:49.205200: I metal_plugin/src/device/metal_device.cc:296] systemMemory: 8.00 GB\n",
      "2024-05-05 16:08:49.205208: I metal_plugin/src/device/metal_device.cc:313] maxCacheSize: 2.67 GB\n",
      "2024-05-05 16:08:49.205244: I tensorflow/core/common_runtime/pluggable_device/pluggable_device_factory.cc:306] Could not identify NUMA node of platform GPU ID 0, defaulting to 0. Your kernel may not have been built with NUMA support.\n",
      "2024-05-05 16:08:49.205265: I tensorflow/core/common_runtime/pluggable_device/pluggable_device_factory.cc:272] Created TensorFlow device (/job:localhost/replica:0/task:0/device:GPU:0 with 0 MB memory) -> physical PluggableDevice (device: 0, name: METAL, pci bus id: <undefined>)\n"
     ]
    },
    {
     "name": "stdout",
     "output_type": "stream",
     "text": [
      "Model: \"sequential\"\n",
      "_________________________________________________________________\n",
      " Layer (type)                Output Shape              Param #   \n",
      "=================================================================\n",
      " simple_rnn (SimpleRNN)      (None, 10, 50)            2800      \n",
      "                                                                 \n",
      " dense (Dense)               (None, 10, 1)             51        \n",
      "                                                                 \n",
      "=================================================================\n",
      "Total params: 2851 (11.14 KB)\n",
      "Trainable params: 2851 (11.14 KB)\n",
      "Non-trainable params: 0 (0.00 Byte)\n",
      "_________________________________________________________________\n"
     ]
    }
   ],
   "source": [
    "import tensorflow as tf \n",
    "from tensorflow.keras import Sequential\n",
    "from tensorflow.keras.layers import Dense,SimpleRNN\n",
    "import numpy as np\n",
    "np.random.seed(1)\n",
    "x=np.random.randn(1000,10,5)\n",
    "y=np.random.randint(2,size=(1000,1))\n",
    "model=Sequential()\n",
    "model.add(SimpleRNN(50,input_shape=(10,5),return_sequences=True))\n",
    "model.add(Dense(1,activation='sigmoid'))\n",
    "model.summary()"
   ]
  },
  {
   "cell_type": "code",
   "execution_count": 5,
   "metadata": {},
   "outputs": [
    {
     "name": "stdout",
     "output_type": "stream",
     "text": [
      "Epoch 1/10\n"
     ]
    },
    {
     "name": "stderr",
     "output_type": "stream",
     "text": [
      "2024-05-05 12:09:39.533351: I tensorflow/core/grappler/optimizers/custom_graph_optimizer_registry.cc:117] Plugin optimizer for device_type GPU is enabled.\n"
     ]
    },
    {
     "name": "stdout",
     "output_type": "stream",
     "text": [
      "32/32 [==============================] - 7s 98ms/step - loss: 0.7066 - accuracy: 0.5027\n",
      "Epoch 2/10\n",
      "32/32 [==============================] - 2s 75ms/step - loss: 0.6935 - accuracy: 0.5144\n",
      "Epoch 3/10\n",
      "32/32 [==============================] - 3s 81ms/step - loss: 0.6923 - accuracy: 0.5172\n",
      "Epoch 4/10\n",
      "32/32 [==============================] - 3s 82ms/step - loss: 0.6908 - accuracy: 0.5286\n",
      "Epoch 5/10\n",
      "32/32 [==============================] - 4s 111ms/step - loss: 0.6894 - accuracy: 0.5304\n",
      "Epoch 6/10\n",
      "32/32 [==============================] - 3s 91ms/step - loss: 0.6891 - accuracy: 0.5377\n",
      "Epoch 7/10\n",
      "32/32 [==============================] - 3s 81ms/step - loss: 0.6875 - accuracy: 0.5377\n",
      "Epoch 8/10\n",
      "32/32 [==============================] - 3s 84ms/step - loss: 0.6870 - accuracy: 0.5451\n",
      "Epoch 9/10\n",
      "32/32 [==============================] - 2s 78ms/step - loss: 0.6838 - accuracy: 0.5528\n",
      "Epoch 10/10\n",
      "32/32 [==============================] - 3s 80ms/step - loss: 0.6827 - accuracy: 0.5577\n"
     ]
    },
    {
     "data": {
      "text/plain": [
       "<keras.src.callbacks.History at 0x3250ba860>"
      ]
     },
     "execution_count": 5,
     "metadata": {},
     "output_type": "execute_result"
    }
   ],
   "source": [
    "model.compile(optimizer='adam',metrics=['accuracy'],loss='binary_crossentropy')\n",
    "model.fit(x,y,epochs=10)"
   ]
  },
  {
   "cell_type": "code",
   "execution_count": 9,
   "metadata": {},
   "outputs": [
    {
     "name": "stdout",
     "output_type": "stream",
     "text": [
      "32/32 [==============================] - 1s 16ms/step - loss: 0.6778 - accuracy: 0.5785\n",
      "loss:0.6777706146240234,accuracy:0.578499972820282\n"
     ]
    }
   ],
   "source": [
    "loss,acc=model.evaluate(x,y)\n",
    "print(f\"loss:{loss},accuracy:{acc}\")"
   ]
  },
  {
   "cell_type": "code",
   "execution_count": null,
   "metadata": {},
   "outputs": [],
   "source": []
  }
 ],
 "metadata": {
  "kernelspec": {
   "display_name": "google",
   "language": "python",
   "name": "python3"
  },
  "language_info": {
   "codemirror_mode": {
    "name": "ipython",
    "version": 3
   },
   "file_extension": ".py",
   "mimetype": "text/x-python",
   "name": "python",
   "nbconvert_exporter": "python",
   "pygments_lexer": "ipython3",
   "version": "3.10.13"
  }
 },
 "nbformat": 4,
 "nbformat_minor": 2
}
