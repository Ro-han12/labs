{
 "cells": [
  {
   "cell_type": "code",
   "execution_count": 5,
   "metadata": {},
   "outputs": [
    {
     "name": "stdout",
     "output_type": "stream",
     "text": [
      "Model: \"sequential_1\"\n",
      "_________________________________________________________________\n",
      " Layer (type)                Output Shape              Param #   \n",
      "=================================================================\n",
      " dense_3 (Dense)             (None, 10)                110       \n",
      "                                                                 \n",
      " dense_4 (Dense)             (None, 20)                220       \n",
      "                                                                 \n",
      " dense_5 (Dense)             (None, 1)                 21        \n",
      "                                                                 \n",
      "=================================================================\n",
      "Total params: 351 (1.37 KB)\n",
      "Trainable params: 351 (1.37 KB)\n",
      "Non-trainable params: 0 (0.00 Byte)\n",
      "_________________________________________________________________\n"
     ]
    }
   ],
   "source": [
    "import tensorflow as tf\n",
    "class Neuralnetwork:\n",
    "    def __init__(self,layers_size):\n",
    "        self.model=tf.keras.models.Sequential([tf.keras.layers.Dense(units,activation='relu') for units in layers_size[:-1]])\n",
    "        self.model.add(tf.keras.layers.Dense(1,activation='sigmoid'))\n",
    "        self.model.compile(optimizer='adam',loss='categorical_crossentropy',metrics='accuracy')\n",
    "        self.model.build((None,layers_size[0]))\n",
    "    def train(x_train,y_train,epochs=10,batch_size=32):\n",
    "        history=self.model.train(x_train,y_train,epochs=epochs,batch_size=batch_size)\n",
    "        return history\n",
    "    def evaluate(x_test,y_test):\n",
    "        self.model.evaluate(x_test,y_test)\n",
    "layers_size=[10,20,1]\n",
    "nn=Neuralnetwork(layers_size)\n",
    "nn.model.summary()\n",
    "        "
   ]
  },
  {
   "cell_type": "code",
   "execution_count": null,
   "metadata": {},
   "outputs": [],
   "source": []
  }
 ],
 "metadata": {
  "kernelspec": {
   "display_name": "google",
   "language": "python",
   "name": "python3"
  },
  "language_info": {
   "codemirror_mode": {
    "name": "ipython",
    "version": 3
   },
   "file_extension": ".py",
   "mimetype": "text/x-python",
   "name": "python",
   "nbconvert_exporter": "python",
   "pygments_lexer": "ipython3",
   "version": "3.10.13"
  }
 },
 "nbformat": 4,
 "nbformat_minor": 2
}
