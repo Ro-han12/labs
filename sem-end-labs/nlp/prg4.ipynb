{
 "cells": [
  {
   "cell_type": "code",
   "execution_count": 1,
   "metadata": {},
   "outputs": [
    {
     "name": "stdout",
     "output_type": "stream",
     "text": [
      "the is present 5580 times in the section news\n"
     ]
    },
    {
     "name": "stderr",
     "output_type": "stream",
     "text": [
      "[nltk_data] Downloading package brown to\n",
      "[nltk_data]     /Users/rohansridhar/nltk_data...\n",
      "[nltk_data]   Package brown is already up-to-date!\n"
     ]
    }
   ],
   "source": [
    "import nltk \n",
    "from nltk.corpus import brown \n",
    "nltk.download('brown')\n",
    "def word_freq(word,section):\n",
    "    try:\n",
    "        word_section=brown.words(categories=section)\n",
    "        freq=word_section.count(word)\n",
    "        return freq \n",
    "    except ValueError:\n",
    "        print(f\"section {section} is not present in the brown corpus\")\n",
    "        return None \n",
    "word='the'\n",
    "section='news'\n",
    "res=word_freq(word,section)\n",
    "if res is not None:\n",
    "    print(f\"{word} is present {res} times in the section {section}\")"
   ]
  },
  {
   "cell_type": "code",
   "execution_count": null,
   "metadata": {},
   "outputs": [],
   "source": []
  }
 ],
 "metadata": {
  "kernelspec": {
   "display_name": "Python 3",
   "language": "python",
   "name": "python3"
  },
  "language_info": {
   "codemirror_mode": {
    "name": "ipython",
    "version": 3
   },
   "file_extension": ".py",
   "mimetype": "text/x-python",
   "name": "python",
   "nbconvert_exporter": "python",
   "pygments_lexer": "ipython3",
   "version": "3.8.18"
  }
 },
 "nbformat": 4,
 "nbformat_minor": 2
}
