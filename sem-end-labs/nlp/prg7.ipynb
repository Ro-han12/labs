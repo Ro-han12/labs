{
 "cells": [
  {
   "cell_type": "code",
   "execution_count": 9,
   "metadata": {},
   "outputs": [
    {
     "data": {
      "text/plain": [
       "('the cute liitle cat is playing with juliee ! .',\n",
       " 'the cute liitle cat is playing with juliee ! .')"
      ]
     },
     "execution_count": 9,
     "metadata": {},
     "output_type": "execute_result"
    }
   ],
   "source": [
    "import re \n",
    "def normalise_text(text):\n",
    "    words=text.split()\n",
    "    norm_text=' '.join(words)\n",
    "    norm_reg=re.sub(r'\\s+',' ',text.strip())\n",
    "    return norm_text,norm_reg\n",
    "text=\"the cute liitle cat   is playing    with juliee  ! .\"\n",
    "normalise_text(text)"
   ]
  },
  {
   "cell_type": "code",
   "execution_count": null,
   "metadata": {},
   "outputs": [],
   "source": []
  }
 ],
 "metadata": {
  "kernelspec": {
   "display_name": "Python 3",
   "language": "python",
   "name": "python3"
  },
  "language_info": {
   "codemirror_mode": {
    "name": "ipython",
    "version": 3
   },
   "file_extension": ".py",
   "mimetype": "text/x-python",
   "name": "python",
   "nbconvert_exporter": "python",
   "pygments_lexer": "ipython3",
   "version": "3.8.18"
  }
 },
 "nbformat": 4,
 "nbformat_minor": 2
}
