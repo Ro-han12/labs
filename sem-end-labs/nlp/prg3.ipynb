{
 "cells": [
  {
   "cell_type": "code",
   "execution_count": 7,
   "metadata": {},
   "outputs": [
    {
     "name": "stdout",
     "output_type": "stream",
     "text": [
      "Most frequent words: Counter({('quick', 'brown'): 1, ('brown', 'fox'): 1, ('fox', 'jumping'): 1, ('jumping', 'fence'): 1, ('fence', 'fox'): 1, ('fox', 'cunning'): 1})\n"
     ]
    }
   ],
   "source": [
    "import nltk \n",
    "from nltk.corpus import stopwords\n",
    "from collections import Counter\n",
    "def freq_bigrams(text,num_words=50):\n",
    "    words=nltk.word_tokenize(text.lower())\n",
    "    stop_words=set(stopwords.words('english'))\n",
    "    freq=[word for word in words if word.isalnum() and word not in stop_words]\n",
    "    bigrams=list(nltk.bigrams(freq))\n",
    "    cnt=Counter(bigrams)\n",
    "    return cnt\n",
    "text='the quick brown fox is jumping over the fence & the fox is cunning '\n",
    "res=freq_bigrams(text,num_words=50)\n",
    "print(\"Most frequent words:\",res)"
   ]
  },
  {
   "cell_type": "code",
   "execution_count": null,
   "metadata": {},
   "outputs": [],
   "source": []
  }
 ],
 "metadata": {
  "kernelspec": {
   "display_name": "Python 3",
   "language": "python",
   "name": "python3"
  },
  "language_info": {
   "codemirror_mode": {
    "name": "ipython",
    "version": 3
   },
   "file_extension": ".py",
   "mimetype": "text/x-python",
   "name": "python",
   "nbconvert_exporter": "python",
   "pygments_lexer": "ipython3",
   "version": "3.8.18"
  }
 },
 "nbformat": 4,
 "nbformat_minor": 2
}
