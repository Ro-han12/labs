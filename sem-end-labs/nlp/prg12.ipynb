{
 "cells": [
  {
   "cell_type": "code",
   "execution_count": 7,
   "metadata": {},
   "outputs": [
    {
     "name": "stderr",
     "output_type": "stream",
     "text": [
      "[nltk_data] Downloading package movie_reviews to\n",
      "[nltk_data]     /Users/rohansridhar/nltk_data...\n",
      "[nltk_data]   Package movie_reviews is already up-to-date!\n"
     ]
    },
    {
     "name": "stdout",
     "output_type": "stream",
     "text": [
      "accuracy is: 0.755\n",
      "neg\n"
     ]
    }
   ],
   "source": [
    "import nltk \n",
    "from nltk.corpus import movie_reviews\n",
    "from nltk import word_tokenize\n",
    "nltk.download('movie_reviews')\n",
    "import random\n",
    "documents=[(movie_reviews.words(fileids),category)\n",
    "           for category in movie_reviews.categories()\n",
    "           for fileids in movie_reviews.fileids(category)]\n",
    "random.shuffle(documents)\n",
    "def document_features(documents):\n",
    "    features={}\n",
    "    for word in documents:\n",
    "        features[word]=True\n",
    "    return features\n",
    "featuresets=[(document_features(d),c) for (d,c) in documents]\n",
    "x_train,x_test=featuresets[1000:],featuresets[:1000]\n",
    "classifier=nltk.NaiveBayesClassifier.train(x_train)\n",
    "accuracy=nltk.classify.accuracy(classifier,x_test)\n",
    "print(\"accuracy is:\",accuracy)\n",
    "def classify_text(text):\n",
    "    words=word_tokenize(text)\n",
    "    features=document_features(words)\n",
    "    label=classifier.classify(features)\n",
    "    return label \n",
    "text=\"the movie was boring\"\n",
    "res=classify_text(text)\n",
    "print(res)\n",
    "    \n"
   ]
  },
  {
   "cell_type": "code",
   "execution_count": null,
   "metadata": {},
   "outputs": [],
   "source": []
  }
 ],
 "metadata": {
  "kernelspec": {
   "display_name": "Python 3",
   "language": "python",
   "name": "python3"
  },
  "language_info": {
   "codemirror_mode": {
    "name": "ipython",
    "version": 3
   },
   "file_extension": ".py",
   "mimetype": "text/x-python",
   "name": "python",
   "nbconvert_exporter": "python",
   "pygments_lexer": "ipython3",
   "version": "3.8.18"
  }
 },
 "nbformat": 4,
 "nbformat_minor": 2
}
