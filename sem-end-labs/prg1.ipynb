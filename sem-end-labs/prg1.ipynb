{
 "cells": [
  {
   "cell_type": "code",
   "execution_count": 13,
   "metadata": {},
   "outputs": [
    {
     "name": "stdout",
     "output_type": "stream",
     "text": [
      "cost after iterations->0:0.693147\n",
      "cost after iterations->100:0.683099\n",
      "cost after iterations->200:0.683099\n",
      "cost after iterations->300:0.683099\n",
      "cost after iterations->400:0.683099\n",
      "cost after iterations->500:0.683099\n",
      "cost after iterations->600:0.683099\n",
      "cost after iterations->700:0.683099\n",
      "cost after iterations->800:0.683099\n",
      "cost after iterations->900:0.683099\n",
      "cost after iterations->1000:0.683099\n",
      "cost after iterations->1100:0.683099\n",
      "cost after iterations->1200:0.683099\n",
      "cost after iterations->1300:0.683099\n",
      "cost after iterations->1400:0.683099\n",
      "cost after iterations->1500:0.683099\n",
      "cost after iterations->1600:0.683099\n",
      "cost after iterations->1700:0.683099\n",
      "cost after iterations->1800:0.683099\n",
      "cost after iterations->1900:0.683099\n"
     ]
    }
   ],
   "source": [
    "import numpy as np \n",
    "def initialise_parameters(dim):\n",
    "    w=np.zeros((dim,1))\n",
    "    b=0\n",
    "    return w,b \n",
    "def sigmoid(z):\n",
    "    s=1/(1+np.exp(-z))\n",
    "    return s \n",
    "def propogate(w,b,x,y):\n",
    "    m=x.shape[1]\n",
    "    A=sigmoid(np.dot(w.T,x))+b \n",
    "    cost=-1/m*np.sum(y*np.log(A)+(1-y)*np.log(1-A))\n",
    "    dw=1/m*np.dot(x,(A-y).T)\n",
    "    db=1/m*np.sum((A-y))\n",
    "    grads={'dw':dw,'db':db}\n",
    "    return grads,cost \n",
    "def optimise(w,b,x,y,num_iterations,learning_rate,print_cost=True):\n",
    "    costs=[]\n",
    "    for i in range(num_iterations):\n",
    "        grads,cost=propogate(w,b,x,y)\n",
    "        dw=grads['dw']\n",
    "        db=grads['db']\n",
    "        w-=learning_rate*dw\n",
    "        b-=learning_rate*db \n",
    "        if i%100==0:\n",
    "            costs.append(cost)\n",
    "        if print_cost and i%100==0:\n",
    "            print(\"cost after iterations->%i:%f\"%(i,cost))\n",
    "    params={'w':w,'b':b}\n",
    "    grads={'dw':dw,'db':db}\n",
    "    return params,grads,cost \n",
    "def model(x_train,y_train,num_iterations=2000,learning_rate=0.5,print_cost=True):\n",
    "    w,b=initialise_parameters(x_train.shape[0])\n",
    "    parameters,_,cost=optimise(w,b,x_train,y_train,num_iterations,learning_rate,print_cost=True)\n",
    "    w,b=parameters['w'],parameters['b']\n",
    "    return {'cost':cost,'w':w,'b':b,'learning_rate':learning_rate,'num_iterations':num_iterations}\n",
    "np.random.seed(0)\n",
    "x_train=np.random.randn(20,1000)\n",
    "y_train=np.random.randint(2,size=(1,1000))\n",
    "x_test=np.random.randn(20,200)\n",
    "y_test=np.random.randint(2,size=(1,200))\n",
    "res=model(x_train,y_train,num_iterations=2000,learning_rate=0.5,print_cost=True)\n",
    "    \n",
    "            \n",
    "    "
   ]
  },
  {
   "cell_type": "code",
   "execution_count": null,
   "metadata": {},
   "outputs": [],
   "source": []
  }
 ],
 "metadata": {
  "kernelspec": {
   "display_name": "google",
   "language": "python",
   "name": "python3"
  },
  "language_info": {
   "codemirror_mode": {
    "name": "ipython",
    "version": 3
   },
   "file_extension": ".py",
   "mimetype": "text/x-python",
   "name": "python",
   "nbconvert_exporter": "python",
   "pygments_lexer": "ipython3",
   "version": "3.10.13"
  }
 },
 "nbformat": 4,
 "nbformat_minor": 2
}
